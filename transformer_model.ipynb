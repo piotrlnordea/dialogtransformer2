{
  "cells": [
    {
      "cell_type": "markdown",
      "id": "fa032160",
      "metadata": {
        "id": "fa032160"
      },
      "source": [
        "# In this notebook, I'll try to apply TRANSFORMER model for a CHATBOT from scratch"
      ]
    },
    {
      "cell_type": "code",
      "source": [
        "from google.colab import drive\n",
        "drive.mount('/content/drive')"
      ],
      "metadata": {
        "colab": {
          "base_uri": "https://localhost:8080/"
        },
        "id": "f9WFVtyzGCmX",
        "outputId": "61ef4a7e-6bdc-4c0a-df27-e2227d9a99ab"
      },
      "id": "f9WFVtyzGCmX",
      "execution_count": 1,
      "outputs": [
        {
          "output_type": "stream",
          "name": "stdout",
          "text": [
            "Mounted at /content/drive\n"
          ]
        }
      ]
    },
    {
      "cell_type": "markdown",
      "id": "698a1320",
      "metadata": {
        "id": "698a1320"
      },
      "source": [
        "## Overview\n",
        "***\n",
        "*A chatbot or chatterbot is a software application used to conduct an on-line chat conversation via text or text-to-speech, in lieu of providing direct contact with a live human agent chatbot is a type of software that can help human by automating conversations and interact with them through messaging platforms. here are different approaches and tools that you can use when building chatbots. Depending on the use case you want to address, some technologies are more appropriate than others. Combining artificial intelligence forms such as natural language processing, machine learning, and semantic understanding may be the best option to achieve the desired results.*\n",
        "***\n"
      ]
    },
    {
      "cell_type": "markdown",
      "id": "b94feefe",
      "metadata": {
        "id": "b94feefe"
      },
      "source": [
        "## How to build a Chatbot for our task?\n",
        "***\n",
        "ChatBots are usually Task specific means if there a chatbot which serves only food delivery app have trained on a dataset which\n",
        "completely different from the dataset on which chatbot which serves online healthcare app. Similary, for this kaggle problem\n",
        "we have provided with movie dataset which may feel that its not specific to any task, but actually it is specific to how people\n",
        "will interect generally as these movie dialogues are nothing but daily life conversation between people however, that chatbot\n",
        "may reply things which sounds too much dramatic and filmy like some dialogue of Tom cruise, shah rukh khan etc.\n",
        "\n",
        "We can approch this problem by applying Neural network models like encoder-decoder architecture with some attention mechanism.\n",
        "***"
      ]
    },
    {
      "cell_type": "code",
      "execution_count": 2,
      "id": "425a8749",
      "metadata": {
        "colab": {
          "base_uri": "https://localhost:8080/"
        },
        "id": "425a8749",
        "outputId": "04261efb-059a-4272-82c0-0dcd2cb69f7c"
      },
      "outputs": [
        {
          "output_type": "stream",
          "name": "stdout",
          "text": [
            "Looking in indexes: https://pypi.org/simple, https://us-python.pkg.dev/colab-wheels/public/simple/\n",
            "Collecting transformers\n",
            "  Downloading transformers-4.25.1-py3-none-any.whl (5.8 MB)\n",
            "\u001b[K     |████████████████████████████████| 5.8 MB 27.9 MB/s \n",
            "\u001b[?25hCollecting tokenizers!=0.11.3,<0.14,>=0.11.1\n",
            "  Downloading tokenizers-0.13.2-cp38-cp38-manylinux_2_17_x86_64.manylinux2014_x86_64.whl (7.6 MB)\n",
            "\u001b[K     |████████████████████████████████| 7.6 MB 51.8 MB/s \n",
            "\u001b[?25hCollecting huggingface-hub<1.0,>=0.10.0\n",
            "  Downloading huggingface_hub-0.11.1-py3-none-any.whl (182 kB)\n",
            "\u001b[K     |████████████████████████████████| 182 kB 68.9 MB/s \n",
            "\u001b[?25hRequirement already satisfied: tqdm>=4.27 in /usr/local/lib/python3.8/dist-packages (from transformers) (4.64.1)\n",
            "Requirement already satisfied: numpy>=1.17 in /usr/local/lib/python3.8/dist-packages (from transformers) (1.21.6)\n",
            "Requirement already satisfied: filelock in /usr/local/lib/python3.8/dist-packages (from transformers) (3.8.2)\n",
            "Requirement already satisfied: pyyaml>=5.1 in /usr/local/lib/python3.8/dist-packages (from transformers) (6.0)\n",
            "Requirement already satisfied: requests in /usr/local/lib/python3.8/dist-packages (from transformers) (2.23.0)\n",
            "Requirement already satisfied: regex!=2019.12.17 in /usr/local/lib/python3.8/dist-packages (from transformers) (2022.6.2)\n",
            "Requirement already satisfied: packaging>=20.0 in /usr/local/lib/python3.8/dist-packages (from transformers) (21.3)\n",
            "Requirement already satisfied: typing-extensions>=3.7.4.3 in /usr/local/lib/python3.8/dist-packages (from huggingface-hub<1.0,>=0.10.0->transformers) (4.4.0)\n",
            "Requirement already satisfied: pyparsing!=3.0.5,>=2.0.2 in /usr/local/lib/python3.8/dist-packages (from packaging>=20.0->transformers) (3.0.9)\n",
            "Requirement already satisfied: idna<3,>=2.5 in /usr/local/lib/python3.8/dist-packages (from requests->transformers) (2.10)\n",
            "Requirement already satisfied: urllib3!=1.25.0,!=1.25.1,<1.26,>=1.21.1 in /usr/local/lib/python3.8/dist-packages (from requests->transformers) (1.24.3)\n",
            "Requirement already satisfied: chardet<4,>=3.0.2 in /usr/local/lib/python3.8/dist-packages (from requests->transformers) (3.0.4)\n",
            "Requirement already satisfied: certifi>=2017.4.17 in /usr/local/lib/python3.8/dist-packages (from requests->transformers) (2022.12.7)\n",
            "Installing collected packages: tokenizers, huggingface-hub, transformers\n",
            "Successfully installed huggingface-hub-0.11.1 tokenizers-0.13.2 transformers-4.25.1\n"
          ]
        }
      ],
      "source": [
        "!pip install transformers\n",
        "import transformers\n",
        "import numpy as np\n",
        "import codecs\n",
        "import tensorflow as tf\n",
        "import pandas as pd\n",
        "import ast\n",
        "import tqdm\n",
        "import matplotlib.pyplot as plt\n",
        "%matplotlib inline\n",
        "# import seaborn as sns\n",
        "import pandas as pd\n",
        "import re\n",
        "import tensorflow as tf\n",
        "from tensorflow.keras.layers import Embedding, LSTM, Dense\n",
        "from tensorflow.keras.models import Model\n",
        "from tensorflow.keras.preprocessing.text import Tokenizer\n",
        "from tensorflow.keras.preprocessing.sequence import pad_sequences\n",
        "import numpy as np\n",
        "import re\n",
        "import warnings\n",
        "import tensorflow_datasets as tfds\n",
        "import tensorflow as tf\n",
        "import joblib\n",
        "import time\n",
        "import numpy as np\n",
        "import matplotlib.pyplot as plt\n",
        "from tensorflow.keras.utils import Progbar\n",
        "warnings.filterwarnings('ignore')"
      ]
    },
    {
      "cell_type": "markdown",
      "id": "ea97982f",
      "metadata": {
        "id": "ea97982f"
      },
      "source": [
        "## Loading cleaned data that I have preprared while EDA and preprocessing"
      ]
    },
    {
      "cell_type": "code",
      "execution_count": 3,
      "id": "c0645f4e",
      "metadata": {
        "colab": {
          "base_uri": "https://localhost:8080/",
          "height": 223
        },
        "id": "c0645f4e",
        "outputId": "29ff2a34-a3ee-42e5-defa-cf0fe86d8e28"
      },
      "outputs": [
        {
          "output_type": "stream",
          "name": "stdout",
          "text": [
            "(139409, 7)\n"
          ]
        },
        {
          "output_type": "execute_result",
          "data": {
            "text/plain": [
              "                                            question  \\\n",
              "0  Well, I thought we'd start with pronunciation,...   \n",
              "1  Not the hacking and gagging and spitting part....   \n",
              "2  You're asking me out.  That's so cute. What's ...   \n",
              "3  No, no, it's my fault -- we didn't have a prop...   \n",
              "4     Gosh, if only we could find Kat a boyfriend...   \n",
              "\n",
              "                                              answer  \n",
              "0  Not the hacking and gagging and spitting part....  \n",
              "1  Okay... then how 'bout we try out some French ...  \n",
              "2                                         Forget it.  \n",
              "3                                           Cameron.  \n",
              "4                          Let me see what I can do.  "
            ],
            "text/html": [
              "\n",
              "  <div id=\"df-85b9ad06-1232-411e-b73a-838eac841650\">\n",
              "    <div class=\"colab-df-container\">\n",
              "      <div>\n",
              "<style scoped>\n",
              "    .dataframe tbody tr th:only-of-type {\n",
              "        vertical-align: middle;\n",
              "    }\n",
              "\n",
              "    .dataframe tbody tr th {\n",
              "        vertical-align: top;\n",
              "    }\n",
              "\n",
              "    .dataframe thead th {\n",
              "        text-align: right;\n",
              "    }\n",
              "</style>\n",
              "<table border=\"1\" class=\"dataframe\">\n",
              "  <thead>\n",
              "    <tr style=\"text-align: right;\">\n",
              "      <th></th>\n",
              "      <th>question</th>\n",
              "      <th>answer</th>\n",
              "    </tr>\n",
              "  </thead>\n",
              "  <tbody>\n",
              "    <tr>\n",
              "      <th>0</th>\n",
              "      <td>Well, I thought we'd start with pronunciation,...</td>\n",
              "      <td>Not the hacking and gagging and spitting part....</td>\n",
              "    </tr>\n",
              "    <tr>\n",
              "      <th>1</th>\n",
              "      <td>Not the hacking and gagging and spitting part....</td>\n",
              "      <td>Okay... then how 'bout we try out some French ...</td>\n",
              "    </tr>\n",
              "    <tr>\n",
              "      <th>2</th>\n",
              "      <td>You're asking me out.  That's so cute. What's ...</td>\n",
              "      <td>Forget it.</td>\n",
              "    </tr>\n",
              "    <tr>\n",
              "      <th>3</th>\n",
              "      <td>No, no, it's my fault -- we didn't have a prop...</td>\n",
              "      <td>Cameron.</td>\n",
              "    </tr>\n",
              "    <tr>\n",
              "      <th>4</th>\n",
              "      <td>Gosh, if only we could find Kat a boyfriend...</td>\n",
              "      <td>Let me see what I can do.</td>\n",
              "    </tr>\n",
              "  </tbody>\n",
              "</table>\n",
              "</div>\n",
              "      <button class=\"colab-df-convert\" onclick=\"convertToInteractive('df-85b9ad06-1232-411e-b73a-838eac841650')\"\n",
              "              title=\"Convert this dataframe to an interactive table.\"\n",
              "              style=\"display:none;\">\n",
              "        \n",
              "  <svg xmlns=\"http://www.w3.org/2000/svg\" height=\"24px\"viewBox=\"0 0 24 24\"\n",
              "       width=\"24px\">\n",
              "    <path d=\"M0 0h24v24H0V0z\" fill=\"none\"/>\n",
              "    <path d=\"M18.56 5.44l.94 2.06.94-2.06 2.06-.94-2.06-.94-.94-2.06-.94 2.06-2.06.94zm-11 1L8.5 8.5l.94-2.06 2.06-.94-2.06-.94L8.5 2.5l-.94 2.06-2.06.94zm10 10l.94 2.06.94-2.06 2.06-.94-2.06-.94-.94-2.06-.94 2.06-2.06.94z\"/><path d=\"M17.41 7.96l-1.37-1.37c-.4-.4-.92-.59-1.43-.59-.52 0-1.04.2-1.43.59L10.3 9.45l-7.72 7.72c-.78.78-.78 2.05 0 2.83L4 21.41c.39.39.9.59 1.41.59.51 0 1.02-.2 1.41-.59l7.78-7.78 2.81-2.81c.8-.78.8-2.07 0-2.86zM5.41 20L4 18.59l7.72-7.72 1.47 1.35L5.41 20z\"/>\n",
              "  </svg>\n",
              "      </button>\n",
              "      \n",
              "  <style>\n",
              "    .colab-df-container {\n",
              "      display:flex;\n",
              "      flex-wrap:wrap;\n",
              "      gap: 12px;\n",
              "    }\n",
              "\n",
              "    .colab-df-convert {\n",
              "      background-color: #E8F0FE;\n",
              "      border: none;\n",
              "      border-radius: 50%;\n",
              "      cursor: pointer;\n",
              "      display: none;\n",
              "      fill: #1967D2;\n",
              "      height: 32px;\n",
              "      padding: 0 0 0 0;\n",
              "      width: 32px;\n",
              "    }\n",
              "\n",
              "    .colab-df-convert:hover {\n",
              "      background-color: #E2EBFA;\n",
              "      box-shadow: 0px 1px 2px rgba(60, 64, 67, 0.3), 0px 1px 3px 1px rgba(60, 64, 67, 0.15);\n",
              "      fill: #174EA6;\n",
              "    }\n",
              "\n",
              "    [theme=dark] .colab-df-convert {\n",
              "      background-color: #3B4455;\n",
              "      fill: #D2E3FC;\n",
              "    }\n",
              "\n",
              "    [theme=dark] .colab-df-convert:hover {\n",
              "      background-color: #434B5C;\n",
              "      box-shadow: 0px 1px 3px 1px rgba(0, 0, 0, 0.15);\n",
              "      filter: drop-shadow(0px 1px 2px rgba(0, 0, 0, 0.3));\n",
              "      fill: #FFFFFF;\n",
              "    }\n",
              "  </style>\n",
              "\n",
              "      <script>\n",
              "        const buttonEl =\n",
              "          document.querySelector('#df-85b9ad06-1232-411e-b73a-838eac841650 button.colab-df-convert');\n",
              "        buttonEl.style.display =\n",
              "          google.colab.kernel.accessAllowed ? 'block' : 'none';\n",
              "\n",
              "        async function convertToInteractive(key) {\n",
              "          const element = document.querySelector('#df-85b9ad06-1232-411e-b73a-838eac841650');\n",
              "          const dataTable =\n",
              "            await google.colab.kernel.invokeFunction('convertToInteractive',\n",
              "                                                     [key], {});\n",
              "          if (!dataTable) return;\n",
              "\n",
              "          const docLinkHtml = 'Like what you see? Visit the ' +\n",
              "            '<a target=\"_blank\" href=https://colab.research.google.com/notebooks/data_table.ipynb>data table notebook</a>'\n",
              "            + ' to learn more about interactive tables.';\n",
              "          element.innerHTML = '';\n",
              "          dataTable['output_type'] = 'display_data';\n",
              "          await google.colab.output.renderOutput(dataTable, element);\n",
              "          const docLink = document.createElement('div');\n",
              "          docLink.innerHTML = docLinkHtml;\n",
              "          element.appendChild(docLink);\n",
              "        }\n",
              "      </script>\n",
              "    </div>\n",
              "  </div>\n",
              "  "
            ]
          },
          "metadata": {},
          "execution_count": 3
        }
      ],
      "source": [
        "dialogs = pd.read_csv('/content/dialogs_expanded.csv')\n",
        "print(dialogs.shape)\n",
        "dialogs.head()\n",
        "data = dialogs[['question', 'answer']]\n",
        "\n",
        "\n",
        "\n",
        "\n",
        "#data = joblib.load('data_cleaned')\n",
        "data.head()"
      ]
    },
    {
      "cell_type": "markdown",
      "id": "81af0edc",
      "metadata": {
        "id": "81af0edc"
      },
      "source": [
        "## Dividing into TWO, train/validation"
      ]
    },
    {
      "cell_type": "code",
      "execution_count": 4,
      "id": "5d494f32",
      "metadata": {
        "id": "5d494f32"
      },
      "outputs": [],
      "source": [
        "from sklearn.model_selection import train_test_split\n",
        "train, validation = train_test_split(data, test_size=0.2, random_state=4)"
      ]
    },
    {
      "cell_type": "code",
      "execution_count": 5,
      "id": "ebf65780",
      "metadata": {
        "colab": {
          "base_uri": "https://localhost:8080/"
        },
        "id": "ebf65780",
        "outputId": "8cb41e9a-c2d6-4e97-a0c1-98af12c4aff3"
      },
      "outputs": [
        {
          "output_type": "stream",
          "name": "stdout",
          "text": [
            "vocab_size_ans, vocab_size_ques:69016,69135\n"
          ]
        }
      ],
      "source": [
        "vocab_ans = list(set(\" \".join(train['answer'].values).split()))\n",
        "vocab_ques = list(set(\" \".join(train['question'].values).split()))\n",
        "vocab_size_ans, vocab_size_ques = len(vocab_ans), len(vocab_ques)\n",
        "print(f\"vocab_size_ans, vocab_size_ques:{vocab_size_ans},{ vocab_size_ques}\")"
      ]
    },
    {
      "cell_type": "markdown",
      "id": "289182c9",
      "metadata": {
        "id": "289182c9"
      },
      "source": [
        "## Using tfds SubwordTextEncoder, it will create tokens\n",
        "#### example Multiplication -> Multi, pli, cat, i, on \n",
        "#### Advantages: \n",
        "    1. Reduces vocab size => faster learning\n",
        "    2. Reduces chances of missing word in test data"
      ]
    },
    {
      "cell_type": "code",
      "execution_count": 6,
      "id": "f322ecb3",
      "metadata": {
        "id": "f322ecb3"
      },
      "outputs": [],
      "source": [
        "tokenizer_a = tfds.deprecated.text.SubwordTextEncoder.build_from_corpus(\n",
        "    train['answer'], target_vocab_size=2**15) \n",
        "\n",
        "tokenizer_q = tfds.deprecated.text.SubwordTextEncoder.build_from_corpus(\n",
        "    train['question'], target_vocab_size=2**15)"
      ]
    },
    {
      "cell_type": "code",
      "execution_count": 7,
      "id": "609b2718",
      "metadata": {
        "colab": {
          "base_uri": "https://localhost:8080/"
        },
        "id": "609b2718",
        "outputId": "9b804a1b-7f91-4245-e490-612542b31154"
      },
      "outputs": [
        {
          "output_type": "stream",
          "name": "stdout",
          "text": [
            "tokenizer_q:23598\n",
            "tokenizer_a:30402\n"
          ]
        }
      ],
      "source": [
        "print(f\"tokenizer_q:{tokenizer_q.vocab_size}\")\n",
        "print(f\"tokenizer_a:{tokenizer_a.vocab_size}\")"
      ]
    },
    {
      "cell_type": "markdown",
      "id": "02392cc3",
      "metadata": {
        "id": "02392cc3"
      },
      "source": [
        "#### Examples of subword tokenization in action!"
      ]
    },
    {
      "cell_type": "code",
      "execution_count": 8,
      "id": "cf67e110",
      "metadata": {
        "colab": {
          "base_uri": "https://localhost:8080/"
        },
        "id": "cf67e110",
        "outputId": "c1cc6cd5-a2a8-4d5e-afc0-02f8f4d8c31a"
      },
      "outputs": [
        {
          "output_type": "stream",
          "name": "stdout",
          "text": [
            "Tokenized string is [17990, 3488, 1119, 23930, 8104, 627]\n",
            "The original string: Encoder decoder\n",
            "17990---->En\n",
            "3488---->code\n",
            "1119---->r \n",
            "23930---->dec\n",
            "8104---->od\n",
            "627---->er\n",
            "================================================================================\n",
            "Tokenized string is [16278, 18272, 769, 19843, 23456]\n",
            "The original string: Encoder decoder\n",
            "16278---->Enc\n",
            "18272---->ode\n",
            "769---->r \n",
            "19843---->decode\n",
            "23456---->r\n"
          ]
        }
      ],
      "source": [
        "sample_string = 'Encoder decoder'\n",
        "\n",
        "tokenized_string = tokenizer_a.encode(sample_string)\n",
        "print ('Tokenized string is {}'.format(tokenized_string))\n",
        "\n",
        "original_string = tokenizer_a.decode(tokenized_string)\n",
        "print ('The original string: {}'.format(original_string))\n",
        "\n",
        "for token in tokenized_string:\n",
        "    print(str(token) + \"---->\" + tokenizer_a.decode([token]))\n",
        "\n",
        "print(\"=\"*80)\n",
        "tokenized_string = tokenizer_q.encode(sample_string)\n",
        "print ('Tokenized string is {}'.format(tokenized_string))\n",
        "\n",
        "original_string = tokenizer_q.decode(tokenized_string)\n",
        "print ('The original string: {}'.format(original_string))\n",
        "\n",
        "for token in tokenized_string:\n",
        "    print(str(token) + \"---->\" + tokenizer_q.decode([token]))"
      ]
    },
    {
      "cell_type": "markdown",
      "id": "ff9e30ce",
      "metadata": {
        "id": "ff9e30ce"
      },
      "source": [
        "###### 0-27512 for questions\n",
        "\n",
        "###### 0-27357 for answers"
      ]
    },
    {
      "cell_type": "markdown",
      "id": "3d9469ee",
      "metadata": {
        "id": "3d9469ee"
      },
      "source": [
        "* **Attaching token number '27513' representing \\<start> and '27514' representing \\<end> QUESTIONS**\n",
        "* **Attaching token number '27358' representing \\<start> and '27359' representing \\<end> ANSWERS**"
      ]
    },
    {
      "cell_type": "code",
      "execution_count": 9,
      "id": "aeb6d990",
      "metadata": {
        "id": "aeb6d990"
      },
      "outputs": [],
      "source": [
        "def encode(ques, ans):\n",
        "    ques = [tokenizer_q.vocab_size] + tokenizer_q.encode(ques.numpy()) + [tokenizer_q.vocab_size+1]\n",
        "    ans = [tokenizer_a.vocab_size] + tokenizer_a.encode(ans.numpy()) + [tokenizer_a.vocab_size+1]\n",
        "    return ques, ans\n",
        "\n",
        "def tf_encode(ques, ans):\n",
        "    result_ques, result_ans = tf.py_function(encode, [ques, ans], [tf.int64, tf.int64])\n",
        "    result_ques.set_shape([None])\n",
        "    result_ans.set_shape([None])\n",
        "    return result_ques, result_ans"
      ]
    },
    {
      "cell_type": "code",
      "execution_count": 10,
      "id": "bc78baed",
      "metadata": {
        "colab": {
          "base_uri": "https://localhost:8080/"
        },
        "id": "bc78baed",
        "outputId": "3bc4868b-7aff-4a94-a31d-bdb50ea764ac"
      },
      "outputs": [
        {
          "output_type": "stream",
          "name": "stdout",
          "text": [
            "And the fifty's all gone, huh? Who's the ten for? \n",
            " The Websters.\n",
            "tf.Tensor(\n",
            "[23598    70     6  1443 23381     5    62   627     1   321    35   336\n",
            " 23381     5     6   591   272 23405 23599], shape=(19,), dtype=int64)\n",
            "tf.Tensor([30402    54 25555 30192 30403], shape=(5,), dtype=int64)\n"
          ]
        }
      ],
      "source": [
        "print(train['question'].values[0],\"\\n\",train['answer'].values[0])\n",
        "question, answer = tf_encode(train['question'].values[0],train['answer'].values[0])\n",
        "print(question)\n",
        "print(answer)"
      ]
    },
    {
      "cell_type": "markdown",
      "id": "d1413123",
      "metadata": {
        "id": "d1413123"
      },
      "source": [
        "### Creating train_dataset/test_dataset object from Dataframe + padding\n",
        "\n",
        "###### prefetch: If I'm at epoch-20 then prefetch prepares the Batch for epoch-21, so when epoch-21 start, it will make available the batch in no time, basically enhancing speed"
      ]
    },
    {
      "cell_type": "code",
      "execution_count": 11,
      "id": "54bb56c4",
      "metadata": {
        "id": "54bb56c4"
      },
      "outputs": [],
      "source": [
        "train_dataset = tf.data.Dataset.from_tensor_slices(dict(train))\n",
        "train_dataset = train_dataset.map(lambda x:tf_encode(x['question'], x['answer']))\n",
        "train_dataset = train_dataset.cache()\n",
        "train_dataset = train_dataset.shuffle(20000).padded_batch(64, padded_shapes=([None],[None])) \n",
        "train_dataset = train_dataset.prefetch(tf.data.experimental.AUTOTUNE) "
      ]
    },
    {
      "cell_type": "code",
      "execution_count": 12,
      "id": "436c73c8",
      "metadata": {
        "id": "436c73c8"
      },
      "outputs": [],
      "source": [
        "val_dataset = tf.data.Dataset.from_tensor_slices(dict(validation))\n",
        "val_dataset = val_dataset.map(lambda x:tf_encode(x['question'], x['answer']))\n",
        "val_dataset = val_dataset.padded_batch(64, padded_shapes=([None],[None]))"
      ]
    },
    {
      "cell_type": "code",
      "execution_count": 13,
      "id": "85844a50",
      "metadata": {
        "colab": {
          "base_uri": "https://localhost:8080/"
        },
        "id": "85844a50",
        "outputId": "f1edacac-f97e-44c5-ca5d-e287e5c3de05"
      },
      "outputs": [
        {
          "output_type": "execute_result",
          "data": {
            "text/plain": [
              "<tf.Tensor: shape=(64, 34), dtype=int64, numpy=\n",
              "array([[23598,   227,   231, ...,     0,     0,     0],\n",
              "       [23598,    87, 23415, ...,     0,     0,     0],\n",
              "       [23598,   176,    34, ...,     0,     0,     0],\n",
              "       ...,\n",
              "       [23598,  3245,    13, ...,     0,     0,     0],\n",
              "       [23598,    20,     6, ...,     0,     0,     0],\n",
              "       [23598,    61, 23381, ...,     0,     0,     0]])>"
            ]
          },
          "metadata": {},
          "execution_count": 13
        }
      ],
      "source": [
        "question, answer = next(iter(train_dataset))\n",
        "question"
      ]
    },
    {
      "cell_type": "markdown",
      "id": "80bf8241",
      "metadata": {
        "id": "80bf8241"
      },
      "source": [
        "### Positional encoding function where 'i' -> embedding dimn index, 'pos' -> word index in a sentence"
      ]
    },
    {
      "cell_type": "markdown",
      "id": "9500b25e",
      "metadata": {
        "id": "9500b25e"
      },
      "source": [
        "$$\\Large{PE_{(pos, 2i)} = sin(pos / 10000^{2i / d_{model}})} $$\n",
        "$$\\Large{PE_{(pos, 2i+1)} = cos(pos / 10000^{2i / d_{model}})} $$"
      ]
    },
    {
      "cell_type": "code",
      "execution_count": 14,
      "id": "2ae35c9d",
      "metadata": {
        "colab": {
          "base_uri": "https://localhost:8080/",
          "height": 300
        },
        "id": "2ae35c9d",
        "outputId": "e90b6846-de6c-491a-abf3-44d0fe73bacb"
      },
      "outputs": [
        {
          "output_type": "stream",
          "name": "stdout",
          "text": [
            "(1, 50, 512)\n"
          ]
        },
        {
          "output_type": "display_data",
          "data": {
            "text/plain": [
              "<Figure size 432x288 with 2 Axes>"
            ],
            "image/png": "[encoded data removed]"
          },
          "metadata": {
            "needs_background": "light"
          }
        }
      ],
      "source": [
        "# Positional encoding\n",
        "\n",
        "\n",
        "def get_angles(pos, i, d_model):\n",
        "    angle_rates = 1 / np.power(10000, (2 * (i//2)) / np.float32(d_model))\n",
        "    return pos * angle_rates\n",
        "\n",
        "\n",
        "\n",
        "def positional_encoding(position, d_model):\n",
        "    angle_rads = get_angles(np.arange(position)[:, np.newaxis],\n",
        "                          np.arange(d_model)[np.newaxis, :],\n",
        "                          d_model)\n",
        "\n",
        "    # apply sin to even indices in the array; 2i\n",
        "    angle_rads[:, 0::2] = np.sin(angle_rads[:, 0::2])\n",
        "\n",
        "    # apply cos to odd indices in the array; 2i+1\n",
        "    angle_rads[:, 1::2] = np.cos(angle_rads[:, 1::2])\n",
        "\n",
        "    pos_encoding = angle_rads[np.newaxis,:]\n",
        "\n",
        "    return tf.cast(pos_encoding, dtype=tf.float32)\n",
        "\n",
        "\n",
        "\n",
        "pos_encoding = positional_encoding(50, 512)\n",
        "print (pos_encoding.shape)\n",
        "\n",
        "plt.pcolormesh(pos_encoding[0], cmap='RdBu')\n",
        "plt.xlabel('Depth')\n",
        "plt.xlim((0, 512))\n",
        "plt.ylabel('Position')\n",
        "plt.colorbar()\n",
        "plt.show()"
      ]
    },
    {
      "cell_type": "markdown",
      "id": "5d393354",
      "metadata": {
        "id": "5d393354"
      },
      "source": [
        "## 1. Pad Masking\n",
        "#### Making all the padded tokens, self attention/attention calculation of a word with those paddings will be ignored"
      ]
    },
    {
      "cell_type": "markdown",
      "id": "9ecbd402",
      "metadata": {
        "id": "9ecbd402"
      },
      "source": [
        "\n",
        "* Here output dimn -> (batch_size, 1, 1, seq_len) \n",
        "          \n",
        "*  for each 8 attention heads, for each query word it will be multiplied, thats why creating 1, 1 in the middle\n",
        "\n",
        "##### (batch_size, 8, query_word_len, seq_len) * (batch_size, 1, 1, seq_len) "
      ]
    },
    {
      "cell_type": "code",
      "execution_count": 15,
      "id": "628afe59",
      "metadata": {
        "id": "628afe59"
      },
      "outputs": [],
      "source": [
        "# Masking\n",
        "\n",
        "'''Mask all the pad tokens in the batch of sequence. \n",
        "It ensures that the model does not treat padding as the input. \n",
        "The mask indicates where pad value 0 is present: it outputs a 1 at those locations, and a 0 otherwise.\n",
        "'''\n",
        "def create_padding_mask(seq):\n",
        "    \"\"\"\n",
        "    seq: padded sentence length (5)\n",
        "    \"\"\"\n",
        "    seq = tf.cast(tf.math.equal(seq, 0), tf.float32)\n",
        "    # Adding 2, 3 dimn using tf.newaxis, 2-> As this mask will be multiplied with each attention head and 3-> for each word in a sentance\n",
        "    return seq[:, tf.newaxis, tf.newaxis, :]  # (batch_size, 1, 1, seq_len)\n",
        "# create_padding_mask(np.array([[1,2,3,0,0,0],[1,2,3,0,0,1]]))"
      ]
    },
    {
      "cell_type": "markdown",
      "id": "2d9aceca",
      "metadata": {
        "id": "2d9aceca"
      },
      "source": [
        "## 2. Looakahead mask\n",
        "\n",
        "for the first word, its self attention calculation with be ignored with proceeding words i.e. second, third word and so on"
      ]
    },
    {
      "cell_type": "code",
      "execution_count": 16,
      "id": "d26dea25",
      "metadata": {
        "colab": {
          "base_uri": "https://localhost:8080/"
        },
        "id": "d26dea25",
        "outputId": "07671c4a-93a1-4f58-bdff-33ffde6baad7"
      },
      "outputs": [
        {
          "output_type": "execute_result",
          "data": {
            "text/plain": [
              "<tf.Tensor: shape=(3, 3), dtype=float32, numpy=\n",
              "array([[0., 1., 1.],\n",
              "       [0., 0., 1.],\n",
              "       [0., 0., 0.]], dtype=float32)>"
            ]
          },
          "metadata": {},
          "execution_count": 16
        }
      ],
      "source": [
        "# Looakahead mask\n",
        "\n",
        "\"\"\"The look-ahead mask is used to mask the future tokens in a sequence. \n",
        "In other words, the mask indicates which entries should not be used.\n",
        "\"\"\"\n",
        "def create_look_ahead_mask(size):\n",
        "    \"\"\"\n",
        "    The look-ahead mask is used to mask the future tokens in a sequence\n",
        "    \"\"\"\n",
        "    #band_part with this setting creates lower triangular matrix that's why subtracting from 1\n",
        "    # [[0., 1., 1.],\n",
        "    #  [0., 0., 1.],\n",
        "    #  [0., 0., 0.]] output with size:3\n",
        "    mask = 1 - tf.linalg.band_part(tf.ones((size, size)), -1, 0)\n",
        "    return mask  # (seq_len, seq_len)\n",
        "\n",
        "#example\n",
        "x = tf.random.uniform((1, 3))\n",
        "temp = create_look_ahead_mask(x.shape[1])\n",
        "temp"
      ]
    },
    {
      "cell_type": "markdown",
      "id": "2896ca7e",
      "metadata": {
        "id": "2896ca7e"
      },
      "source": [
        "## 3. SELF-ATTENTION calculation"
      ]
    },
    {
      "cell_type": "markdown",
      "id": "04daf49a",
      "metadata": {
        "id": "04daf49a"
      },
      "source": [
        "![image](images/attenion_formula.png)"
      ]
    },
    {
      "cell_type": "code",
      "execution_count": 17,
      "id": "f55e44a8",
      "metadata": {
        "id": "f55e44a8"
      },
      "outputs": [],
      "source": [
        "def scaled_dot_product_attention(q, k, v, mask=None):\n",
        "    \"\"\"\n",
        "    Args:\n",
        "    q: query shape == (..., seq_len_q, depth) # NOTE: depth=dk\n",
        "    k: key shape == (..., seq_len_k, depth)\n",
        "    v: value shape == (..., seq_len_v, depth_v)\n",
        "    mask: Float tensor with shape broadcastable to (..., seq_len_q, seq_len_k). Defaults to None.\n",
        "\n",
        "    Returns:\n",
        "    output, attention_weights\n",
        "    \"\"\" \n",
        "    matmul_qk = tf.matmul(q, k, transpose_b=True)  # (..., seq_len_q, seq_len_k)\n",
        "    # scale matmul_qk. underroot d_model i.e. underroot(100)\n",
        "    dk = tf.cast(tf.shape(k)[-1], tf.float32)\n",
        "    scaled_attention_logits = matmul_qk / tf.math.sqrt(dk)\n",
        "    # add the mask to the scaled tensor. \n",
        "    if mask is not None:\n",
        "        scaled_attention_logits += (mask * -1e9)  # -1e9 ~ (-INFINITY) => where ever mask is set, make its logit value close to -INF\n",
        "    # softmax is normalized on the last axis (seq_len_k) so that the scores add up to 1.\n",
        "    attention_weights = tf.nn.softmax(scaled_attention_logits, axis=-1)  # (..., seq_len_q, seq_len_k)\n",
        "    output = tf.matmul(attention_weights, v)  # (..., seq_len_q, depth_v)\n",
        "\n",
        "    return output, attention_weights"
      ]
    },
    {
      "cell_type": "markdown",
      "id": "798eca41",
      "metadata": {
        "id": "798eca41"
      },
      "source": [
        "## 4. MultiHeadAttention Calculation\n",
        "#### Its nothing but a RESHAPING !! :)\n",
        "example : \n",
        "1. if we have (64, 10, 512)->(BATCH, #words, embeddding) as input, after passiing it though dense layer of size 512 we will get (64, 10, 512)\n",
        "2. We have three such dense layers representing/for Q, K, V encodings.\n",
        "3. (64, 10, 512) -> reshape -> (64, 8, 10 ,64) -> (BATCH, attention head, #words, encode)\n",
        "    '64' is representing encoding of 512 -> 64 dimension\n",
        "4. (64, 8, 10 ,64)->self-attention-code->(64, 8, 10 ,10) called attention weights, (64, 8, 10 ,64)\n",
        "5. Concatenate such that 8*64 will be new dimension -> (64, 10, 512)\n",
        "    \n",
        "    **Beware embedding dimn must be divisible by no. of heads and always embedding_dimn/heads => encodin_dimn(here 64)**\n",
        "    \n",
        "    **NICE HACK** (-_-)"
      ]
    },
    {
      "cell_type": "markdown",
      "id": "0f41cf3c",
      "metadata": {
        "id": "0f41cf3c"
      },
      "source": [
        "![image](images/multi_head.png)"
      ]
    },
    {
      "cell_type": "code",
      "execution_count": 18,
      "id": "ab0b6ec3",
      "metadata": {
        "id": "ab0b6ec3"
      },
      "outputs": [],
      "source": [
        "class MultiHeadAttention(tf.keras.layers.Layer):\n",
        "    def __init__(self, d_model, num_heads):\n",
        "        super(MultiHeadAttention, self).__init__()\n",
        "        self.num_heads = num_heads\n",
        "        self.d_model = d_model  # typically 512\n",
        "\n",
        "        assert d_model % self.num_heads == 0\n",
        "\n",
        "        self.depth = d_model // self.num_heads\n",
        "\n",
        "        self.wq = tf.keras.layers.Dense(d_model)\n",
        "        self.wk = tf.keras.layers.Dense(d_model)\n",
        "        self.wv = tf.keras.layers.Dense(d_model)\n",
        "\n",
        "        self.dense = tf.keras.layers.Dense(d_model)\n",
        "        \n",
        "    def split_heads(self, x, batch_size):\n",
        "        \"\"\"Split the last dimension into (num_heads, depth).\n",
        "        Transpose the result such that the shape is (batch_size, num_heads, seq_len, depth)\n",
        "        \"\"\"\n",
        "        x = tf.reshape(x, (batch_size, -1, self.num_heads, self.depth))\n",
        "        return tf.transpose(x, perm=[0, 2, 1, 3])\n",
        "    \n",
        "    def call(self, v, k, q, mask):\n",
        "        batch_size = tf.shape(q)[0]\n",
        "\n",
        "        q = self.wq(q)  # (batch_size, seq_len, d_model)\n",
        "        k = self.wk(k)  # (batch_size, seq_len, d_model)\n",
        "        v = self.wv(v)  # (batch_size, seq_len, d_model)\n",
        "\n",
        "        q = self.split_heads(q, batch_size)  # (batch_size, num_heads, seq_len_q, depth)\n",
        "        k = self.split_heads(k, batch_size)  # (batch_size, num_heads, seq_len_k, depth)\n",
        "        v = self.split_heads(v, batch_size)  # (batch_size, num_heads, seq_len_v, depth)\n",
        "\n",
        "        # scaled_attention.shape == (batch_size, num_heads, seq_len_q, depth)\n",
        "        # attention_weights.shape == (batch_size, num_heads, seq_len_q, seq_len_k)\n",
        "        scaled_attention, attention_weights = scaled_dot_product_attention(\n",
        "            q, k, v, mask)\n",
        "\n",
        "        scaled_attention = tf.transpose(scaled_attention, perm=[0, 2, 1, 3])  # (batch_size, seq_len_q, num_heads, depth)\n",
        "\n",
        "        concat_attention = tf.reshape(scaled_attention, \n",
        "                                      (batch_size, -1, self.d_model))  # (batch_size, seq_len_q, d_model)\n",
        "\n",
        "        output = self.dense(concat_attention)  # (batch_size, seq_len_q, d_model)\n",
        "\n",
        "        return output, attention_weights\n",
        "    "
      ]
    },
    {
      "cell_type": "markdown",
      "id": "809f3721",
      "metadata": {
        "id": "809f3721"
      },
      "source": [
        "## 5. ENCODER layer\n",
        "\n",
        "#### -> self Multihead attention -> Residual+Norm -> Feed forward neural network -> Residual+Norm\n",
        "\n",
        "![image](images/encoder_layer.png)\n"
      ]
    },
    {
      "cell_type": "code",
      "execution_count": 19,
      "id": "2c9b69f5",
      "metadata": {
        "id": "2c9b69f5"
      },
      "outputs": [],
      "source": [
        "def point_wise_feed_forward_network(d_model, dff): #dff = 512\n",
        "    return tf.keras.Sequential([\n",
        "      tf.keras.layers.Dense(dff, activation='relu'),  # (batch_size, seq_len, dff)\n",
        "      tf.keras.layers.Dense(d_model)  # (batch_size, seq_len, d_model)\n",
        "    ])\n",
        "\n",
        "\n",
        "class EncoderLayer(tf.keras.layers.Layer):\n",
        "    def __init__(self, d_model, num_heads, dff, rate=0.1):\n",
        "        super(EncoderLayer, self).__init__()\n",
        "\n",
        "        self.mha = MultiHeadAttention(d_model, num_heads)\n",
        "        self.ffn = point_wise_feed_forward_network(d_model, dff)\n",
        "\n",
        "        self.layernorm1 = tf.keras.layers.LayerNormalization(epsilon=1e-6)\n",
        "        self.layernorm2 = tf.keras.layers.LayerNormalization(epsilon=1e-6)\n",
        "\n",
        "        self.dropout1 = tf.keras.layers.Dropout(rate)\n",
        "        self.dropout2 = tf.keras.layers.Dropout(rate)\n",
        "\n",
        "    def call(self, x, training, mask):\n",
        "        attn_output, _ = self.mha(x, x, x, mask)  # (batch_size, input_seq_len, d_model)\n",
        "        attn_output = self.dropout1(attn_output, training=training)\n",
        "        out1 = self.layernorm1(x + attn_output)  # (batch_size, input_seq_len, d_model) # with Attention\n",
        "\n",
        "        ffn_output = self.ffn(out1)  # (batch_size, input_seq_len, d_model)\n",
        "        ffn_output = self.dropout2(ffn_output, training=training)\n",
        "        out2 = self.layernorm2(out1 + ffn_output)  # (batch_size, input_seq_len, d_model) #with Attention\n",
        "\n",
        "        return out2"
      ]
    },
    {
      "cell_type": "code",
      "execution_count": 20,
      "id": "d18de1ef",
      "metadata": {
        "colab": {
          "base_uri": "https://localhost:8080/"
        },
        "id": "d18de1ef",
        "outputId": "209774c6-d1fe-480b-b262-1fa7ce936d4b"
      },
      "outputs": [
        {
          "output_type": "execute_result",
          "data": {
            "text/plain": [
              "TensorShape([64, 43, 512])"
            ]
          },
          "metadata": {},
          "execution_count": 20
        }
      ],
      "source": [
        "sample_encoder_layer = EncoderLayer(512, 8, 2048)\n",
        "\n",
        "sample_encoder_layer_output = sample_encoder_layer(\n",
        "    tf.random.uniform((64, 43, 512)), False, None)\n",
        "\n",
        "sample_encoder_layer_output.shape  # (batch_size, input_seq_len, d_model)"
      ]
    },
    {
      "cell_type": "markdown",
      "id": "0d49552e",
      "metadata": {
        "id": "0d49552e"
      },
      "source": [
        "## 6. DECODER LAYER\n",
        "#### -> self multihead attention -> residual+norm -> multihead attention(between E & D) -> residual+norm -> feed forward NN -> residual+norm\n",
        "\n",
        "![image](images/decoder_layer.png)"
      ]
    },
    {
      "cell_type": "code",
      "execution_count": 21,
      "id": "f3061bff",
      "metadata": {
        "id": "f3061bff"
      },
      "outputs": [],
      "source": [
        "class DecoderLayer(tf.keras.layers.Layer):\n",
        "    def __init__(self, d_model, num_heads, dff, rate=0.1):\n",
        "        super(DecoderLayer, self).__init__()\n",
        "\n",
        "        self.mha1 = MultiHeadAttention(d_model, num_heads)\n",
        "        self.mha2 = MultiHeadAttention(d_model, num_heads)\n",
        "\n",
        "        self.ffn = point_wise_feed_forward_network(d_model, dff)\n",
        "\n",
        "        self.layernorm1 = tf.keras.layers.LayerNormalization(epsilon=1e-6)\n",
        "        self.layernorm2 = tf.keras.layers.LayerNormalization(epsilon=1e-6)\n",
        "        self.layernorm3 = tf.keras.layers.LayerNormalization(epsilon=1e-6)\n",
        "\n",
        "        self.dropout1 = tf.keras.layers.Dropout(rate)\n",
        "        self.dropout2 = tf.keras.layers.Dropout(rate)\n",
        "        self.dropout3 = tf.keras.layers.Dropout(rate)\n",
        "    \n",
        "    \n",
        "    def call(self, x, enc_output, training, look_ahead_mask, padding_mask):\n",
        "         \n",
        "        attn1, attn_weights_block1 = self.mha1(x, x, x, look_ahead_mask)  # (batch_size, target_seq_len, d_model)\n",
        "        attn1 = self.dropout1(attn1, training=training)\n",
        "        out1 = self.layernorm1(attn1 + x) \n",
        "        attn2, attn_weights_block2 = self.mha2(\n",
        "            enc_output, enc_output, out1, padding_mask)  # (batch_size, target_seq_len, d_model)\n",
        "        attn2 = self.dropout2(attn2, training=training)\n",
        "        out2 = self.layernorm2(attn2 + out1)  # (batch_size, target_seq_len, d_model)\n",
        "\n",
        "        ffn_output = self.ffn(out2)  # (batch_size, target_seq_len, d_model)\n",
        "        ffn_output = self.dropout3(ffn_output, training=training)\n",
        "        out3 = self.layernorm3(ffn_output + out2)  # (batch_size, target_seq_len, d_model)\n",
        "\n",
        "        return out3, attn_weights_block1, attn_weights_block2"
      ]
    },
    {
      "cell_type": "markdown",
      "id": "7a2123ca",
      "metadata": {
        "id": "7a2123ca"
      },
      "source": [
        "## 7. ENCODER \n",
        "#### Nothing but repetation of Encoder layer :-) + Input embedding vector + positional encoding\n",
        "\n",
        "![image](images/encoder.png)"
      ]
    },
    {
      "cell_type": "code",
      "execution_count": 22,
      "id": "98960a2d",
      "metadata": {
        "id": "98960a2d"
      },
      "outputs": [],
      "source": [
        "class Encoder(tf.keras.layers.Layer):\n",
        "    def __init__(self, num_layers, d_model, num_heads, dff, input_vocab_size,\n",
        "               maximum_position_encoding, rate=0.1):\n",
        "        super(Encoder, self).__init__()\n",
        "\n",
        "        self.d_model = d_model\n",
        "        self.num_layers = num_layers\n",
        "\n",
        "        self.embedding = tf.keras.layers.Embedding(input_vocab_size, d_model)\n",
        "        self.pos_encoding = positional_encoding(maximum_position_encoding, \n",
        "                                                self.d_model)\n",
        "\n",
        "\n",
        "        self.enc_layers = [EncoderLayer(d_model, num_heads, dff, rate) \n",
        "                           for _ in range(num_layers)]\n",
        "\n",
        "        self.dropout = tf.keras.layers.Dropout(rate)\n",
        "\n",
        "    def call(self, x, training, mask):\n",
        "\n",
        "        seq_len = tf.shape(x)[1]   #x:(batch, seq_len)\n",
        "        # adding embedding and position encoding.\n",
        "        x = self.embedding(x)  # (batch_size, input_seq_len, d_model)\n",
        "        x *= tf.math.sqrt(tf.cast(self.d_model, tf.float32)) \n",
        "        x += self.pos_encoding[:, :seq_len, :]\n",
        "\n",
        "        x = self.dropout(x, training=training)\n",
        "\n",
        "        for i in range(self.num_layers):\n",
        "            x = self.enc_layers[i](x, training, mask)\n",
        "\n",
        "        return x  # (batch_size, input_seq_len, d_model)"
      ]
    },
    {
      "cell_type": "markdown",
      "id": "5fd0dcc2",
      "metadata": {
        "id": "5fd0dcc2"
      },
      "source": [
        "## 8. DECODER\n",
        "#### Nothing but Repetation of decoder layers + posisional encoder + embedding layer\n",
        "\n",
        "![image](images/decoder.png)"
      ]
    },
    {
      "cell_type": "code",
      "execution_count": 23,
      "id": "b4232ef9",
      "metadata": {
        "id": "b4232ef9"
      },
      "outputs": [],
      "source": [
        "class Decoder(tf.keras.layers.Layer):\n",
        "    def __init__(self, num_layers, d_model, num_heads, dff, target_vocab_size,\n",
        "               maximum_position_encoding, rate=0.1):\n",
        "        super(Decoder, self).__init__()\n",
        "\n",
        "        self.d_model = d_model\n",
        "        self.num_layers = num_layers\n",
        "\n",
        "        self.embedding = tf.keras.layers.Embedding(target_vocab_size, d_model)\n",
        "        self.pos_encoding = positional_encoding(maximum_position_encoding, d_model)\n",
        "\n",
        "        self.dec_layers = [DecoderLayer(d_model, num_heads, dff, rate) \n",
        "                           for _ in range(num_layers)]\n",
        "        self.dropout = tf.keras.layers.Dropout(rate)\n",
        "    \n",
        "    def call(self, x, enc_output, training, look_ahead_mask, padding_mask):\n",
        "\n",
        "        seq_len = tf.shape(x)[1]\n",
        "        attention_weights = {}\n",
        "\n",
        "        x = self.embedding(x)  # (batch_size, target_seq_len, d_model)\n",
        "        x *= tf.math.sqrt(tf.cast(self.d_model, tf.float32))\n",
        "        x += self.pos_encoding[:, :seq_len, :]\n",
        "\n",
        "        x = self.dropout(x, training=training)\n",
        "\n",
        "        for i in range(self.num_layers):\n",
        "            x, block1, block2 = self.dec_layers[i](x, enc_output, training,\n",
        "                                                 look_ahead_mask, padding_mask)\n",
        "\n",
        "            attention_weights['decoder_layer{}_block1'.format(i+1)] = block1\n",
        "            attention_weights['decoder_layer{}_block2'.format(i+1)] = block2\n",
        "\n",
        "        # x.shape == (batch_size, target_seq_len, d_model)\n",
        "        return x, attention_weights"
      ]
    },
    {
      "cell_type": "markdown",
      "id": "50318f4f",
      "metadata": {
        "id": "50318f4f"
      },
      "source": [
        "## 9. TRANSFORMER\n",
        "\n",
        "#### Nothing but encoder+decoder+dense layer\n",
        "##### (64,10,512) -> dense_layer -> (64,10,vocab_size)\n",
        "\n",
        "![image](images/transformer.png)\n"
      ]
    },
    {
      "cell_type": "code",
      "execution_count": 24,
      "id": "6ba6c5e1",
      "metadata": {
        "id": "6ba6c5e1"
      },
      "outputs": [],
      "source": [
        "\n",
        "class Transformer(tf.keras.Model):\n",
        "    def __init__(self, num_layers, d_model, num_heads, dff, input_vocab_size, \n",
        "               target_vocab_size, pe_input, pe_target, rate=0.1):\n",
        "        super(Transformer, self).__init__()\n",
        "\n",
        "        self.encoder = Encoder(num_layers, d_model, num_heads, dff, \n",
        "                               input_vocab_size, pe_input, rate)\n",
        "\n",
        "        self.decoder = Decoder(num_layers, d_model, num_heads, dff, \n",
        "                               target_vocab_size, pe_target, rate)\n",
        "\n",
        "        self.final_layer = tf.keras.layers.Dense(target_vocab_size)\n",
        "\n",
        "    def call(self, inp, tar, training, enc_padding_mask, \n",
        "           look_ahead_mask, dec_padding_mask):\n",
        "\n",
        "        enc_output = self.encoder(inp, training, enc_padding_mask)  # (batch_size, inp_seq_len, d_model)\n",
        "\n",
        "        # dec_output.shape == (batch_size, tar_seq_len, d_model)\n",
        "        dec_output, attention_weights = self.decoder(\n",
        "            tar, enc_output, training, look_ahead_mask, dec_padding_mask)\n",
        "\n",
        "        final_output = self.final_layer(dec_output)  # (batch_size, tar_seq_len, target_vocab_size)\n",
        "\n",
        "        return final_output, attention_weights"
      ]
    },
    {
      "cell_type": "markdown",
      "id": "db99e050",
      "metadata": {
        "id": "db99e050"
      },
      "source": [
        "#### So to create a transformer architecture which is now everywhere in NLP models, we require only 9 STEPs :-O"
      ]
    },
    {
      "cell_type": "code",
      "execution_count": 25,
      "id": "0ad95ab6",
      "metadata": {
        "id": "0ad95ab6"
      },
      "outputs": [],
      "source": [
        "# tokenizer_a = joblib.load(\"tokenizer_a\")\n",
        "# tokenizer_q = joblib.load(\"tokenizer_q\")"
      ]
    },
    {
      "cell_type": "code",
      "execution_count": 25,
      "id": "ca0583e3",
      "metadata": {
        "id": "ca0583e3"
      },
      "outputs": [],
      "source": []
    },
    {
      "cell_type": "code",
      "execution_count": 26,
      "id": "fb699bbb",
      "metadata": {
        "id": "fb699bbb"
      },
      "outputs": [],
      "source": [
        "num_layers = 4\n",
        "d_model = 128\n",
        "dff = 512\n",
        "num_heads = 8\n",
        "\n",
        "input_vocab_size = tokenizer_q.vocab_size + 2\n",
        "target_vocab_size = tokenizer_a.vocab_size + 2\n",
        "dropout_rate = 0.1"
      ]
    },
    {
      "cell_type": "markdown",
      "id": "a6dd6833",
      "metadata": {
        "id": "a6dd6833"
      },
      "source": [
        "## Custom learning rate, proposed in the paper\n",
        "#### First learning rate will be high and then after some epochs it will be decreasing ONLY\n",
        "\n",
        "![image](images/lr.png)\n"
      ]
    },
    {
      "cell_type": "code",
      "execution_count": 27,
      "id": "af0bd674",
      "metadata": {
        "id": "af0bd674"
      },
      "outputs": [],
      "source": [
        "class CustomSchedule(tf.keras.optimizers.schedules.LearningRateSchedule):\n",
        "    def __init__(self, d_model, warmup_steps=4000):\n",
        "        super(CustomSchedule, self).__init__()\n",
        "\n",
        "        self.d_model = d_model\n",
        "        self.d_model = tf.cast(self.d_model, tf.float32)\n",
        "\n",
        "        self.warmup_steps = warmup_steps\n",
        "    \n",
        "    def __call__(self, step):\n",
        "        arg1 = tf.math.rsqrt(step)\n",
        "        arg2 = step * (self.warmup_steps ** -1.5)\n",
        "\n",
        "        return tf.math.rsqrt(self.d_model) * tf.math.minimum(arg1, arg2)"
      ]
    },
    {
      "cell_type": "code",
      "execution_count": 28,
      "id": "95ed1f98",
      "metadata": {
        "id": "95ed1f98"
      },
      "outputs": [],
      "source": [
        "learning_rate = CustomSchedule(d_model)\n",
        "\n",
        "optimizer = tf.keras.optimizers.Adam(learning_rate, beta_1=0.9, beta_2=0.98, \n",
        "                                     epsilon=1e-9)"
      ]
    },
    {
      "cell_type": "markdown",
      "id": "a8e3f318",
      "metadata": {
        "id": "a8e3f318"
      },
      "source": [
        "### See, increasing and then decreasing"
      ]
    },
    {
      "cell_type": "code",
      "execution_count": 29,
      "id": "a02400de",
      "metadata": {
        "colab": {
          "base_uri": "https://localhost:8080/",
          "height": 296
        },
        "id": "a02400de",
        "outputId": "787d8804-287f-4dcd-bfa6-bc60e33666fe"
      },
      "outputs": [
        {
          "output_type": "execute_result",
          "data": {
            "text/plain": [
              "Text(0.5, 0, 'Train Step')"
            ]
          },
          "metadata": {},
          "execution_count": 29
        },
        {
          "output_type": "display_data",
          "data": {
            "text/plain": [
              "<Figure size 432x288 with 1 Axes>"
            ],
            "image/png": "[encoded data removed]"
          },
          "metadata": {
            "needs_background": "light"
          }
        }
      ],
      "source": [
        "temp_learning_rate_schedule = CustomSchedule(d_model)\n",
        "\n",
        "plt.plot(temp_learning_rate_schedule(tf.range(40000, dtype=tf.float32)))\n",
        "plt.ylabel(\"Learning Rate\")\n",
        "plt.xlabel(\"Train Step\")"
      ]
    },
    {
      "cell_type": "markdown",
      "id": "05c461fb",
      "metadata": {
        "id": "05c461fb"
      },
      "source": [
        "##### Custom losss function, same as sparse categorical cross entropy but considers only no padded values"
      ]
    },
    {
      "cell_type": "code",
      "execution_count": 30,
      "id": "ba02438a",
      "metadata": {
        "id": "ba02438a"
      },
      "outputs": [],
      "source": [
        "loss_object = tf.keras.losses.SparseCategoricalCrossentropy(\n",
        "    from_logits=True, reduction='none')\n",
        "def loss_function(real, pred):\n",
        "    mask = tf.math.logical_not(tf.math.equal(real, 0))\n",
        "    loss_ = loss_object(real, pred)\n",
        "\n",
        "    mask = tf.cast(mask, dtype=loss_.dtype)\n",
        "    loss_ *= mask\n",
        "\n",
        "    return tf.reduce_sum(loss_)/tf.reduce_sum(mask)\n",
        "\n",
        "train_loss = tf.keras.metrics.Mean(name='train_loss')\n",
        "train_accuracy = tf.keras.metrics.SparseCategoricalAccuracy(\n",
        "    name='train_accuracy')"
      ]
    },
    {
      "cell_type": "markdown",
      "id": "01b9a90f",
      "metadata": {
        "id": "01b9a90f"
      },
      "source": [
        "### Creating pad mask(encoder), pad mask(decoder), lookahead mask(decoder)"
      ]
    },
    {
      "cell_type": "code",
      "execution_count": 31,
      "id": "b61f4e3f",
      "metadata": {
        "id": "b61f4e3f"
      },
      "outputs": [],
      "source": [
        "def create_masks(inp, tar):\n",
        "    # Encoder padding mask\n",
        "    enc_padding_mask = create_padding_mask(inp)\n",
        "\n",
        "    # Used in the 2nd attention block in the decoder.\n",
        "    # This padding mask is used to mask the encoder outputs.\n",
        "    dec_padding_mask = create_padding_mask(inp)\n",
        "\n",
        "    # Used in the 1st attention block in the decoder.\n",
        "    # It is used to pad and mask future tokens in the input received by \n",
        "    # the decoder.\n",
        "    look_ahead_mask = create_look_ahead_mask(tf.shape(tar)[1])\n",
        "    dec_target_padding_mask = create_padding_mask(tar)\n",
        "    combined_mask = tf.maximum(dec_target_padding_mask, look_ahead_mask)\n",
        "\n",
        "    return enc_padding_mask, combined_mask, dec_padding_mask"
      ]
    },
    {
      "cell_type": "markdown",
      "id": "644505ce",
      "metadata": {
        "id": "644505ce"
      },
      "source": [
        "## Saving model checkpoint"
      ]
    },
    {
      "cell_type": "code",
      "execution_count": 32,
      "id": "7a9ba0f8",
      "metadata": {
        "id": "7a9ba0f8"
      },
      "outputs": [],
      "source": [
        "num_layers = 4\n",
        "d_model = 128\n",
        "dff = 512\n",
        "num_heads = 8\n",
        "input_vocab_size = tokenizer_q.vocab_size + 2\n",
        "target_vocab_size = tokenizer_a.vocab_size + 2\n",
        "dropout_rate = 0.1\n",
        "\n",
        "\n",
        "transformer = Transformer(num_layers, d_model, num_heads, dff,\n",
        "                          input_vocab_size, target_vocab_size, \n",
        "                          pe_input=input_vocab_size, \n",
        "                          pe_target=target_vocab_size,\n",
        "                          rate=dropout_rate)\n",
        "\n",
        "\n",
        "\n",
        "\n",
        "checkpoint_path = \"./checkpoints_test/train\"\n",
        "\n",
        "ckpt = tf.train.Checkpoint(transformer=transformer,\n",
        "                           optimizer=optimizer)\n",
        "\n",
        "ckpt_manager = tf.train.CheckpointManager(ckpt, checkpoint_path, max_to_keep=5)\n",
        "\n",
        "# if a checkpoint exists, restore the latest checkpoint.\n",
        "if ckpt_manager.latest_checkpoint:\n",
        "    ckpt.restore(ckpt_manager.latest_checkpoint)\n",
        "    print ('Latest checkpoint restored!!')"
      ]
    },
    {
      "cell_type": "markdown",
      "id": "f4c3cdf4",
      "metadata": {
        "id": "f4c3cdf4"
      },
      "source": [
        "## Using gradient tape for getting derivatives of loss functions w.r.t. weights then applyiing to optimizer => BACKPROPAGATION"
      ]
    },
    {
      "cell_type": "code",
      "execution_count": 33,
      "id": "5e0dc634",
      "metadata": {
        "id": "5e0dc634"
      },
      "outputs": [],
      "source": [
        "# The @tf.function trace-compiles train_step into a TF graph for faster\n",
        "# execution. The function specializes to the precise shape of the argument\n",
        "# tensors. To avoid re-tracing due to the variable sequence lengths or variable\n",
        "# batch sizes (the last batch is smaller), use input_signature to specify\n",
        "# more generic shapes.\n",
        "\n",
        "train_step_signature = [\n",
        "    tf.TensorSpec(shape=(None, None), dtype=tf.int64),\n",
        "    tf.TensorSpec(shape=(None, None), dtype=tf.int64),\n",
        "]\n",
        "\n",
        "@tf.function(input_signature=train_step_signature)\n",
        "def train_step(inp, tar):\n",
        "    tar_inp = tar[:, :-1]\n",
        "    tar_real = tar[:, 1:]\n",
        "\n",
        "    enc_padding_mask, combined_mask, dec_padding_mask = create_masks(inp, tar_inp) \n",
        "    with tf.GradientTape() as tape:\n",
        "        predictions, _ = transformer(inp, tar_inp, \n",
        "                                     True, \n",
        "                                     enc_padding_mask, \n",
        "                                     combined_mask, \n",
        "                                     dec_padding_mask)\n",
        "        loss = loss_function(tar_real, predictions)\n",
        "\n",
        "    gradients = tape.gradient(loss, transformer.trainable_variables)    \n",
        "    optimizer.apply_gradients(zip(gradients, transformer.trainable_variables))\n",
        "\n",
        "    train_loss(loss)\n",
        "    train_accuracy(tar_real, predictions)"
      ]
    },
    {
      "cell_type": "markdown",
      "id": "bf410f58",
      "metadata": {
        "id": "bf410f58"
      },
      "source": [
        "## Creating sample transformer to know the no. of trainable parameters"
      ]
    },
    {
      "cell_type": "code",
      "execution_count": 34,
      "id": "d0d0ea48",
      "metadata": {
        "colab": {
          "base_uri": "https://localhost:8080/"
        },
        "id": "d0d0ea48",
        "outputId": "a9408e89-e2a7-4a8b-abee-55f7987cd5de"
      },
      "outputs": [
        {
          "output_type": "stream",
          "name": "stdout",
          "text": [
            "Model: \"transformer_1\"\n",
            "_________________________________________________________________\n",
            " Layer (type)                Output Shape              Param #   \n",
            "=================================================================\n",
            " encoder_1 (Encoder)         multiple                  3813888   \n",
            "                                                                 \n",
            " decoder_1 (Decoder)         multiple                  4950016   \n",
            "                                                                 \n",
            " dense_135 (Dense)           multiple                  3922116   \n",
            "                                                                 \n",
            "=================================================================\n",
            "Total params: 12,686,020\n",
            "Trainable params: 12,686,020\n",
            "Non-trainable params: 0\n",
            "_________________________________________________________________\n"
          ]
        }
      ],
      "source": [
        "num_layers = 4\n",
        "d_model = 128\n",
        "dff = 512\n",
        "num_heads = 8\n",
        "input_vocab_size = tokenizer_q.vocab_size + 2\n",
        "target_vocab_size = tokenizer_a.vocab_size + 2\n",
        "dropout_rate = 0.1\n",
        "\n",
        "sample_transformer = Transformer(num_layers, d_model, num_heads, dff,\n",
        "                          input_vocab_size, target_vocab_size, \n",
        "                          pe_input=input_vocab_size, \n",
        "                          pe_target=target_vocab_size,\n",
        "                          rate=dropout_rate)\n",
        "\n",
        "temp_input = tf.random.uniform((64, 27), dtype=tf.int64, minval=0, maxval=200)\n",
        "temp_target = tf.random.uniform((64, 27), dtype=tf.int64, minval=0, maxval=200)\n",
        "\n",
        "fn_out, _ = sample_transformer(temp_input, temp_target, training=False, \n",
        "                               enc_padding_mask=None, \n",
        "                               look_ahead_mask=None,\n",
        "                               dec_padding_mask=None)\n",
        "\n",
        "fn_out.shape  # (batch_size, tar_seq_len, target_vocab_size)\n",
        "sample_transformer.summary()"
      ]
    },
    {
      "cell_type": "code",
      "execution_count": 35,
      "id": "8d653136",
      "metadata": {
        "id": "8d653136"
      },
      "outputs": [],
      "source": [
        "num_layers = 4\n",
        "d_model = 128\n",
        "dff = 512\n",
        "num_heads = 8\n",
        "input_vocab_size = tokenizer_q.vocab_size + 2\n",
        "target_vocab_size = tokenizer_a.vocab_size + 2\n",
        "dropout_rate = 0.1\n",
        "\n",
        "\n",
        "transformer = Transformer(num_layers, d_model, num_heads, dff,\n",
        "                          input_vocab_size, target_vocab_size, \n",
        "                          pe_input=input_vocab_size, \n",
        "                          pe_target=target_vocab_size,\n",
        "                          rate=dropout_rate)"
      ]
    },
    {
      "cell_type": "code",
      "execution_count": 36,
      "id": "a47d4b94",
      "metadata": {
        "colab": {
          "base_uri": "https://localhost:8080/"
        },
        "id": "a47d4b94",
        "outputId": "5b9eb078-cd54-4e0d-d6ab-4235dacaf6e1"
      },
      "outputs": [
        {
          "output_type": "stream",
          "name": "stdout",
          "text": [
            "\n",
            "epoch 1/20\n",
            "111552/111527 [==============================] - 289s 3ms/step - loss: 5.9531 - acc: 0.0851\n",
            "\n",
            "epoch 2/20\n",
            "111552/111527 [==============================] - 181s 2ms/step - loss: 5.1311 - acc: 0.1074\n",
            "\n",
            "epoch 3/20\n",
            "111552/111527 [==============================] - 184s 2ms/step - loss: 4.7987 - acc: 0.1168\n",
            "\n",
            "epoch 4/20\n",
            "111552/111527 [==============================] - 179s 2ms/step - loss: 4.5997 - acc: 0.1227\n",
            "\n",
            "epoch 5/20\n",
            "111552/111527 [==============================] - 181s 2ms/step - loss: 4.4632 - acc: 0.1268\n",
            "Saving checkpoint for epoch 5 at ./checkpoints_test/train/ckpt-1\n",
            "\n",
            "epoch 6/20\n",
            "111552/111527 [==============================] - 181s 2ms/step - loss: 4.3647 - acc: 0.1300\n",
            "\n",
            "epoch 7/20\n",
            "111552/111527 [==============================] - 181s 2ms/step - loss: 4.2896 - acc: 0.1327\n",
            "\n",
            "epoch 8/20\n",
            "111552/111527 [==============================] - 179s 2ms/step - loss: 4.2291 - acc: 0.1350\n",
            "\n",
            "epoch 9/20\n",
            "111552/111527 [==============================] - 181s 2ms/step - loss: 4.1786 - acc: 0.1370\n",
            "\n",
            "epoch 10/20\n",
            "111552/111527 [==============================] - 182s 2ms/step - loss: 4.1354 - acc: 0.1388\n",
            "Saving checkpoint for epoch 10 at ./checkpoints_test/train/ckpt-2\n",
            "\n",
            "epoch 11/20\n",
            "111552/111527 [==============================] - 182s 2ms/step - loss: 4.0977 - acc: 0.1404\n",
            "\n",
            "epoch 12/20\n",
            "111552/111527 [==============================] - 182s 2ms/step - loss: 4.0642 - acc: 0.1418\n",
            "\n",
            "epoch 13/20\n",
            "111552/111527 [==============================] - 182s 2ms/step - loss: 4.0343 - acc: 0.1432\n",
            "\n",
            "epoch 14/20\n",
            "111552/111527 [==============================] - 181s 2ms/step - loss: 4.0071 - acc: 0.1445\n",
            "\n",
            "epoch 15/20\n",
            "111552/111527 [==============================] - 182s 2ms/step - loss: 3.9823 - acc: 0.1457\n",
            "Saving checkpoint for epoch 15 at ./checkpoints_test/train/ckpt-3\n",
            "\n",
            "epoch 16/20\n",
            "111552/111527 [==============================] - 182s 2ms/step - loss: 3.9596 - acc: 0.1468\n",
            "\n",
            "epoch 17/20\n",
            "111552/111527 [==============================] - 182s 2ms/step - loss: 3.9385 - acc: 0.1479\n",
            "\n",
            "epoch 18/20\n",
            "111552/111527 [==============================] - 182s 2ms/step - loss: 3.9189 - acc: 0.1489\n",
            "\n",
            "epoch 19/20\n",
            "111552/111527 [==============================] - 181s 2ms/step - loss: 3.9006 - acc: 0.1498\n",
            "\n",
            "epoch 20/20\n",
            "111552/111527 [==============================] - 181s 2ms/step - loss: 3.8834 - acc: 0.1507\n",
            "Saving checkpoint for epoch 20 at ./checkpoints_test/train/ckpt-4\n"
          ]
        }
      ],
      "source": [
        "EPOCHS = 20\n",
        "batch_size = 64\n",
        "metrics_names = ['loss', 'acc'] \n",
        "train_loss.reset_states()\n",
        "train_accuracy.reset_states()\n",
        "for epoch in range(EPOCHS):\n",
        "    print(\"\\nepoch {}/{}\".format(epoch+1,EPOCHS))\n",
        "    pb_i = Progbar(train.shape[0], stateful_metrics=metrics_names)\n",
        " \n",
        "    # inp -> question, tar -> answer\n",
        "    for (batch, (inp, tar)) in enumerate(train_dataset):\n",
        "        train_step(inp, tar)\n",
        "        \n",
        "        values=[('loss',train_loss.result()), ('acc',train_accuracy.result())]\n",
        "        \n",
        "        pb_i.add(batch_size, values=values) \n",
        "    if (epoch + 1) % 5 == 0:\n",
        "        ckpt_save_path = ckpt_manager.save()\n",
        "        print ('Saving checkpoint for epoch {} at {}'.format(epoch+1,ckpt_save_path))"
      ]
    },
    {
      "cell_type": "code",
      "execution_count": 37,
      "id": "addc165f",
      "metadata": {
        "id": "addc165f",
        "outputId": "7c3f6a54-0595-4faf-ee81-42cfe3f3b966",
        "colab": {
          "base_uri": "https://localhost:8080/"
        }
      },
      "outputs": [
        {
          "output_type": "stream",
          "name": "stdout",
          "text": [
            "\n",
            "epoch 1/5\n",
            "111552/111527 [==============================] - 181s 2ms/step - loss: 3.8673 - acc: 0.1516\n",
            "\n",
            "epoch 2/5\n",
            "111552/111527 [==============================] - 181s 2ms/step - loss: 3.8521 - acc: 0.1524\n",
            "\n",
            "epoch 3/5\n",
            "111552/111527 [==============================] - 181s 2ms/step - loss: 3.8376 - acc: 0.1532\n",
            "\n",
            "epoch 4/5\n",
            "111552/111527 [==============================] - 181s 2ms/step - loss: 3.8239 - acc: 0.1540\n",
            "\n",
            "epoch 5/5\n",
            "111552/111527 [==============================] - 181s 2ms/step - loss: 3.8108 - acc: 0.1547\n",
            "Saving checkpoint for epoch 5 at ./checkpoints_test/train/ckpt-5\n"
          ]
        }
      ],
      "source": [
        "EPOCHS = 5\n",
        "batch_size = 64\n",
        "metrics_names = ['loss', 'acc'] \n",
        "# train_loss.reset_states()\n",
        "# train_accuracy.reset_states()\n",
        "for epoch in range(EPOCHS):\n",
        "    print(\"\\nepoch {}/{}\".format(epoch+1,EPOCHS))\n",
        "    pb_i = Progbar(train.shape[0], stateful_metrics=metrics_names)\n",
        " \n",
        "    # inp -> question, tar -> answer\n",
        "    for (batch, (inp, tar)) in enumerate(train_dataset):\n",
        "        train_step(inp, tar)\n",
        "        \n",
        "        values=[('loss',train_loss.result()), ('acc',train_accuracy.result())]\n",
        "        \n",
        "        pb_i.add(batch_size, values=values) \n",
        "    if (epoch + 1) % 5 == 0:\n",
        "        ckpt_save_path = ckpt_manager.save()\n",
        "        print ('Saving checkpoint for epoch {} at {}'.format(epoch+1,ckpt_save_path))"
      ]
    },
    {
      "cell_type": "markdown",
      "id": "eca700ca",
      "metadata": {
        "id": "eca700ca"
      },
      "source": [
        "# With those hyperparameters it seems model is not learning at all, as there is no progress in 25 EPOCHS"
      ]
    },
    {
      "cell_type": "code",
      "execution_count": null,
      "id": "3c6542bc",
      "metadata": {
        "id": "3c6542bc"
      },
      "outputs": [],
      "source": [
        "MAX_LENGTH = 27 \n",
        "def evaluate(inp_sentence):\n",
        "    start_token = [tokenizer_q.vocab_size]\n",
        "    end_token = [tokenizer_q.vocab_size + 1]\n",
        "\n",
        "    # inp sentence is portuguese, hence adding the start and end token\n",
        "    inp_sentence = start_token + tokenizer_q.encode(inp_sentence) + end_token\n",
        "    encoder_input = tf.expand_dims(inp_sentence, 0)\n",
        "\n",
        "    # as the target is english, the first word to the transformer should be the\n",
        "    # english start token.\n",
        "    decoder_input = [tokenizer_a.vocab_size]\n",
        "    output = tf.expand_dims(decoder_input, 0)\n",
        "\n",
        "    for i in range(MAX_LENGTH):\n",
        "        enc_padding_mask, combined_mask, dec_padding_mask = create_masks(\n",
        "            encoder_input, output)\n",
        "\n",
        "        # predictions.shape == (batch_size, seq_len, vocab_size)\n",
        "        predictions, attention_weights = transformer(encoder_input, \n",
        "                                                     output,\n",
        "                                                     False,\n",
        "                                                     enc_padding_mask,\n",
        "                                                     combined_mask,\n",
        "                                                     dec_padding_mask)\n",
        "\n",
        "        # select the last word from the seq_len dimension\n",
        "#         print(predictions.shape,\"aa\",predictions[: ,-1:, :].shape)\n",
        "        predictions = predictions[: ,-1:, :]  # (batch_size, 1, vocab_size)\n",
        "\n",
        "        predicted_id = tf.cast(tf.argmax(predictions, axis=-1), tf.int32)\n",
        "#         print(predicted_id, output)\n",
        "    # return the result if the predicted_id is equal to the end token\n",
        "        if predicted_id == tokenizer_a.vocab_size+1: \n",
        "            return tf.squeeze(output, axis=0), attention_weights\n",
        "\n",
        "    # concatentate the predicted_id to the output which is given to the decoder\n",
        "    # as its input.\n",
        "        output = tf.concat([output, predicted_id], axis=-1)\n",
        "\n",
        "    return tf.squeeze(output, axis=0), attention_weights"
      ]
    },
    {
      "cell_type": "code",
      "execution_count": 39,
      "id": "dcfbf0c7",
      "metadata": {
        "id": "dcfbf0c7"
      },
      "outputs": [],
      "source": [
        "inp_sentence = \"i am doing great\"\n",
        "a, b = evaluate(inp_sentence)"
      ]
    },
    {
      "cell_type": "markdown",
      "id": "30d36412",
      "metadata": {
        "id": "30d36412"
      },
      "source": [
        "# RESULTS are ABSURD"
      ]
    },
    {
      "cell_type": "code",
      "execution_count": 40,
      "id": "7ee9871b",
      "metadata": {
        "id": "7ee9871b",
        "outputId": "5abf037c-efb8-4e4c-f8e4-3fc557047bd4",
        "colab": {
          "base_uri": "https://localhost:8080/"
        }
      },
      "outputs": [
        {
          "output_type": "stream",
          "name": "stdout",
          "text": [
            "I \n",
            "don\n",
            "'\n",
            "t \n",
            "know\n",
            ".\n"
          ]
        }
      ],
      "source": [
        "for i in a[1:]:\n",
        "    print(tokenizer_a.decode([i]))"
      ]
    },
    {
      "cell_type": "markdown",
      "id": "c45aebc4",
      "metadata": {
        "id": "c45aebc4"
      },
      "source": [
        " ## Lets try with different hyperparameters"
      ]
    },
    {
      "cell_type": "code",
      "execution_count": 41,
      "id": "a79abb08",
      "metadata": {
        "id": "a79abb08",
        "outputId": "e7a254c8-2175-4e3d-903e-73a5d5f68dd5",
        "colab": {
          "base_uri": "https://localhost:8080/"
        }
      },
      "outputs": [
        {
          "output_type": "stream",
          "name": "stdout",
          "text": [
            "Model: \"transformer_1\"\n",
            "_________________________________________________________________\n",
            " Layer (type)                Output Shape              Param #   \n",
            "=================================================================\n",
            " encoder_1 (Encoder)         multiple                  3813888   \n",
            "                                                                 \n",
            " decoder_1 (Decoder)         multiple                  4950016   \n",
            "                                                                 \n",
            " dense_135 (Dense)           multiple                  3922116   \n",
            "                                                                 \n",
            "=================================================================\n",
            "Total params: 12,686,020\n",
            "Trainable params: 12,686,020\n",
            "Non-trainable params: 0\n",
            "_________________________________________________________________\n"
          ]
        }
      ],
      "source": [
        "num_layers = 4\n",
        "d_model = 128\n",
        "dff = 512\n",
        "num_heads = 8\n",
        "\n",
        "input_vocab_size = tokenizer_q.vocab_size + 2\n",
        "target_vocab_size = tokenizer_a.vocab_size + 2\n",
        "dropout_rate = 0.1\n",
        "temp_input = tf.random.uniform((64, 27), dtype=tf.int64, minval=0, maxval=200)\n",
        "temp_target = tf.random.uniform((64, 27), dtype=tf.int64, minval=0, maxval=200)\n",
        "\n",
        "fn_out, _ = sample_transformer(temp_input, temp_target, training=False, \n",
        "                               enc_padding_mask=None, \n",
        "                               look_ahead_mask=None,\n",
        "                               dec_padding_mask=None)\n",
        "\n",
        "fn_out.shape  # (batch_size, tar_seq_len, target_vocab_size)\n",
        "sample_transformer.summary()"
      ]
    },
    {
      "cell_type": "code",
      "execution_count": 42,
      "id": "5709905a",
      "metadata": {
        "id": "5709905a",
        "outputId": "88ff3b72-8ff2-43f3-9b4c-a0433d71c053",
        "colab": {
          "base_uri": "https://localhost:8080/"
        }
      },
      "outputs": [
        {
          "output_type": "stream",
          "name": "stdout",
          "text": [
            "Model: \"transformer_3\"\n",
            "_________________________________________________________________\n",
            " Layer (type)                Output Shape              Param #   \n",
            "=================================================================\n",
            " encoder_3 (Encoder)         multiple                  7095808   \n",
            "                                                                 \n",
            " decoder_3 (Decoder)         multiple                  9364992   \n",
            "                                                                 \n",
            " dense_233 (Dense)           multiple                  7813828   \n",
            "                                                                 \n",
            "=================================================================\n",
            "Total params: 24,274,628\n",
            "Trainable params: 24,274,628\n",
            "Non-trainable params: 0\n",
            "_________________________________________________________________\n"
          ]
        }
      ],
      "source": [
        "num_layers = 2\n",
        "d_model = 256\n",
        "dff = 512\n",
        "num_heads = 8\n",
        "input_vocab_size = tokenizer_q.vocab_size + 2\n",
        "target_vocab_size = tokenizer_a.vocab_size + 2\n",
        "dropout_rate = 0.1\n",
        "\n",
        "sample_transformer = Transformer(num_layers, d_model, num_heads, dff,\n",
        "                          input_vocab_size, target_vocab_size, \n",
        "                          pe_input=input_vocab_size, \n",
        "                          pe_target=target_vocab_size,\n",
        "                          rate=dropout_rate)\n",
        "\n",
        "temp_input = tf.random.uniform((64, 27), dtype=tf.int64, minval=0, maxval=200)\n",
        "temp_target = tf.random.uniform((64, 27), dtype=tf.int64, minval=0, maxval=200)\n",
        "\n",
        "fn_out, _ = sample_transformer(temp_input, temp_target, training=False, \n",
        "                               enc_padding_mask=None, \n",
        "                               look_ahead_mask=None,\n",
        "                               dec_padding_mask=None)\n",
        "sample_transformer.summary()"
      ]
    },
    {
      "cell_type": "markdown",
      "id": "17f5656e",
      "metadata": {
        "id": "17f5656e"
      },
      "source": [
        "### Now the trainable parameters has increased from 12M to 24M, Lets test this!!"
      ]
    },
    {
      "cell_type": "code",
      "execution_count": 43,
      "id": "27d76c6e",
      "metadata": {
        "id": "27d76c6e",
        "outputId": "4e353a1b-67fb-43bb-8d2b-1803e0b321d0",
        "colab": {
          "base_uri": "https://localhost:8080/"
        }
      },
      "outputs": [
        {
          "output_type": "stream",
          "name": "stdout",
          "text": [
            "\n",
            "epoch 1/20\n",
            "111552/111527 [==============================] - 181s 2ms/step - loss: 3.4864 - acc: 0.1732\n",
            "\n",
            "epoch 2/20\n",
            "111552/111527 [==============================] - 181s 2ms/step - loss: 3.4799 - acc: 0.1735\n",
            "\n",
            "epoch 3/20\n",
            "111552/111527 [==============================] - 182s 2ms/step - loss: 3.4746 - acc: 0.1738\n",
            "\n",
            "epoch 4/20\n",
            "111552/111527 [==============================] - 181s 2ms/step - loss: 3.4696 - acc: 0.1741\n",
            "\n",
            "epoch 5/20\n",
            "111552/111527 [==============================] - 181s 2ms/step - loss: 3.4644 - acc: 0.1745\n",
            "Saving checkpoint for epoch 5 at ./checkpoints_test/train/ckpt-6\n",
            "\n",
            "epoch 6/20\n",
            "111552/111527 [==============================] - 181s 2ms/step - loss: 3.4594 - acc: 0.1748\n",
            "\n",
            "epoch 7/20\n",
            "111552/111527 [==============================] - 182s 2ms/step - loss: 3.4546 - acc: 0.1751\n",
            "\n",
            "epoch 8/20\n",
            "111552/111527 [==============================] - 181s 2ms/step - loss: 3.4500 - acc: 0.1754\n",
            "\n",
            "epoch 9/20\n",
            "111552/111527 [==============================] - 181s 2ms/step - loss: 3.4451 - acc: 0.1757\n",
            "\n",
            "epoch 10/20\n",
            "111552/111527 [==============================] - 181s 2ms/step - loss: 3.4406 - acc: 0.1760\n",
            "Saving checkpoint for epoch 10 at ./checkpoints_test/train/ckpt-7\n",
            "\n",
            "epoch 11/20\n",
            "111552/111527 [==============================] - 181s 2ms/step - loss: 3.4360 - acc: 0.1763\n",
            "\n",
            "epoch 12/20\n",
            "111552/111527 [==============================] - 181s 2ms/step - loss: 3.4314 - acc: 0.1765\n",
            "\n",
            "epoch 13/20\n",
            "111552/111527 [==============================] - 181s 2ms/step - loss: 3.4271 - acc: 0.1768\n",
            "\n",
            "epoch 14/20\n",
            "111552/111527 [==============================] - 182s 2ms/step - loss: 3.4227 - acc: 0.1772\n",
            "\n",
            "epoch 15/20\n",
            "111552/111527 [==============================] - 181s 2ms/step - loss: 3.4184 - acc: 0.1774\n",
            "Saving checkpoint for epoch 15 at ./checkpoints_test/train/ckpt-8\n",
            "\n",
            "epoch 16/20\n",
            "111552/111527 [==============================] - 181s 2ms/step - loss: 3.4143 - acc: 0.1777\n",
            "\n",
            "epoch 17/20\n",
            "111552/111527 [==============================] - 181s 2ms/step - loss: 3.4103 - acc: 0.1779\n",
            "\n",
            "epoch 18/20\n",
            "111552/111527 [==============================] - 181s 2ms/step - loss: 3.4064 - acc: 0.1782\n",
            "\n",
            "epoch 19/20\n",
            "111552/111527 [==============================] - 181s 2ms/step - loss: 3.4027 - acc: 0.1784\n",
            "\n",
            "epoch 20/20\n",
            "111552/111527 [==============================] - 182s 2ms/step - loss: 3.3991 - acc: 0.1787\n",
            "Saving checkpoint for epoch 20 at ./checkpoints_test/train/ckpt-9\n"
          ]
        }
      ],
      "source": [
        "EPOCHS = 20\n",
        "batch_size = 64\n",
        "metrics_names = ['loss', 'acc'] \n",
        "train_loss.reset_states()\n",
        "train_accuracy.reset_states()\n",
        "for epoch in range(EPOCHS):\n",
        "    print(\"\\nepoch {}/{}\".format(epoch+1,EPOCHS))\n",
        "    pb_i = Progbar(train.shape[0], stateful_metrics=metrics_names)\n",
        " \n",
        "    # inp -> question, tar -> answer\n",
        "    for (batch, (inp, tar)) in enumerate(train_dataset):\n",
        "        train_step(inp, tar)\n",
        "        \n",
        "        values=[('loss',train_loss.result()), ('acc',train_accuracy.result())]\n",
        "        \n",
        "        pb_i.add(batch_size, values=values) \n",
        "    if (epoch + 1) % 5 == 0:\n",
        "        ckpt_save_path = ckpt_manager.save()\n",
        "        print ('Saving checkpoint for epoch {} at {}'.format(epoch+1,ckpt_save_path))"
      ]
    },
    {
      "cell_type": "code",
      "execution_count": null,
      "id": "8990f5ec",
      "metadata": {
        "id": "8990f5ec"
      },
      "outputs": [],
      "source": [
        "EPOCHS = 30\n",
        "batch_size = 64\n",
        "metrics_names = ['loss', 'acc'] \n",
        "# train_loss.reset_states()\n",
        "# train_accuracy.reset_states()\n",
        "for epoch in range(EPOCHS):\n",
        "    print(\"\\nepoch {}/{}\".format(epoch+1,EPOCHS))\n",
        "    pb_i = Progbar(train.shape[0], stateful_metrics=metrics_names)\n",
        " \n",
        "    # inp -> question, tar -> answer\n",
        "    for (batch, (inp, tar)) in enumerate(train_dataset):\n",
        "        train_step(inp, tar)\n",
        "        \n",
        "        values=[('loss',train_loss.result()), ('acc',train_accuracy.result())]\n",
        "        \n",
        "        pb_i.add(batch_size, values=values) \n",
        "    if (epoch + 1) % 5 == 0:\n",
        "        ckpt_save_path = ckpt_manager.save()\n",
        "        print ('Saving checkpoint for epoch {} at {}'.format(epoch+1,ckpt_save_path))"
      ]
    },
    {
      "cell_type": "markdown",
      "id": "e364afa5",
      "metadata": {
        "id": "e364afa5"
      },
      "source": [
        "## Learning is slow, but not stagnant (-__-)"
      ]
    },
    {
      "cell_type": "code",
      "execution_count": null,
      "id": "47943fa8",
      "metadata": {
        "id": "47943fa8"
      },
      "outputs": [],
      "source": [
        "EPOCHS = 100\n",
        "batch_size = 64\n",
        "metrics_names = ['loss', 'acc'] \n",
        "# train_loss.reset_states()\n",
        "# train_accuracy.reset_states()\n",
        "for epoch in range(50, EPOCHS):\n",
        "    print(\"\\nepoch {}/{}\".format(epoch+1,EPOCHS))\n",
        "    pb_i = Progbar(train.shape[0], stateful_metrics=metrics_names)\n",
        " \n",
        "    # inp -> question, tar -> answer\n",
        "    for (batch, (inp, tar)) in enumerate(train_dataset):\n",
        "        train_step(inp, tar)\n",
        "        \n",
        "        values=[('loss',train_loss.result()), ('acc',train_accuracy.result())]\n",
        "        \n",
        "        pb_i.add(batch_size, values=values) \n",
        "    if (epoch + 1) % 5 == 0:\n",
        "        ckpt_save_path = ckpt_manager.save()\n",
        "        print ('Saving checkpoint for epoch {} at {}'.format(epoch+1,ckpt_save_path))"
      ]
    },
    {
      "cell_type": "code",
      "execution_count": null,
      "id": "c533244c",
      "metadata": {
        "id": "c533244c"
      },
      "outputs": [],
      "source": [
        "EPOCHS = 150\n",
        "batch_size = 64\n",
        "metrics_names = ['loss', 'acc'] \n",
        "# train_loss.reset_states()\n",
        "# train_accuracy.reset_states()\n",
        "for epoch in range(100, EPOCHS):\n",
        "    print(\"\\nepoch {}/{}\".format(epoch+1,EPOCHS))\n",
        "    pb_i = Progbar(train.shape[0], stateful_metrics=metrics_names)\n",
        " \n",
        "    # inp -> question, tar -> answer\n",
        "    for (batch, (inp, tar)) in enumerate(train_dataset):\n",
        "        train_step(inp, tar)\n",
        "        \n",
        "        values=[('loss',train_loss.result()), ('acc',train_accuracy.result())]\n",
        "        \n",
        "        pb_i.add(batch_size, values=values) \n",
        "    if (epoch + 1) % 5 == 0:\n",
        "        ckpt_save_path = ckpt_manager.save()\n",
        "        print ('Saving checkpoint for epoch {} at {}'.format(epoch+1,ckpt_save_path))"
      ]
    },
    {
      "cell_type": "code",
      "execution_count": null,
      "id": "7ebb9b2d",
      "metadata": {
        "id": "7ebb9b2d"
      },
      "outputs": [],
      "source": [
        "EPOCHS = 200\n",
        "batch_size = 64\n",
        "metrics_names = ['loss', 'acc'] \n",
        "# train_loss.reset_states()\n",
        "# train_accuracy.reset_states()\n",
        "for epoch in range(150, EPOCHS):\n",
        "    print(\"\\nepoch {}/{}\".format(epoch+1,EPOCHS))\n",
        "    pb_i = Progbar(train.shape[0], stateful_metrics=metrics_names)\n",
        " \n",
        "    # inp -> question, tar -> answer\n",
        "    for (batch, (inp, tar)) in enumerate(train_dataset):\n",
        "        train_step(inp, tar)\n",
        "        \n",
        "        values=[('loss',train_loss.result()), ('acc',train_accuracy.result())]\n",
        "        \n",
        "        pb_i.add(batch_size, values=values) \n",
        "    if (epoch + 1) % 5 == 0:\n",
        "        ckpt_save_path = ckpt_manager.save()\n",
        "        print ('Saving checkpoint for epoch {} at {}'.format(epoch+1,ckpt_save_path))"
      ]
    },
    {
      "cell_type": "code",
      "execution_count": null,
      "id": "fa114565",
      "metadata": {
        "id": "fa114565"
      },
      "outputs": [],
      "source": [
        "EPOCHS = 300\n",
        "batch_size = 64\n",
        "metrics_names = ['loss', 'acc'] \n",
        "# train_loss.reset_states()\n",
        "# train_accuracy.reset_states()\n",
        "for epoch in range(200, EPOCHS):\n",
        "    print(\"\\nepoch {}/{}\".format(epoch+1,EPOCHS))\n",
        "    pb_i = Progbar(train.shape[0], stateful_metrics=metrics_names)\n",
        " \n",
        "    # inp -> question, tar -> answer\n",
        "    for (batch, (inp, tar)) in enumerate(train_dataset):\n",
        "        train_step(inp, tar)\n",
        "        \n",
        "        values=[('loss',train_loss.result()), ('acc',train_accuracy.result())]\n",
        "        \n",
        "        pb_i.add(batch_size, values=values) \n",
        "    if (epoch + 1) % 5 == 0:\n",
        "        ckpt_save_path = ckpt_manager.save()\n",
        "        print ('Saving checkpoint for epoch {} at {}'.format(epoch+1,ckpt_save_path))"
      ]
    },
    {
      "cell_type": "code",
      "execution_count": null,
      "id": "88154466",
      "metadata": {
        "id": "88154466"
      },
      "outputs": [],
      "source": [
        "EPOCHS = 350\n",
        "batch_size = 64\n",
        "metrics_names = ['loss', 'acc'] \n",
        "# train_loss.reset_states()\n",
        "# train_accuracy.reset_states()\n",
        "for epoch in range(300, EPOCHS):\n",
        "    print(\"\\nepoch {}/{}\".format(epoch+1,EPOCHS))\n",
        "    pb_i = Progbar(train.shape[0], stateful_metrics=metrics_names)\n",
        " \n",
        "    # inp -> question, tar -> answer\n",
        "    for (batch, (inp, tar)) in enumerate(train_dataset):\n",
        "        train_step(inp, tar)\n",
        "        \n",
        "        values=[('loss',train_loss.result()), ('acc',train_accuracy.result())]\n",
        "        \n",
        "        pb_i.add(batch_size, values=values) \n",
        "    if (epoch + 1) % 5 == 0:\n",
        "        ckpt_save_path = ckpt_manager.save()\n",
        "        print ('Saving checkpoint for epoch {} at {}'.format(epoch+1,ckpt_save_path))"
      ]
    },
    {
      "cell_type": "markdown",
      "id": "58fe7b10",
      "metadata": {
        "id": "58fe7b10"
      },
      "source": [
        "# EPOCH:350, I think its enough, let's check what type of REPLIES that CHATBOT is generating"
      ]
    },
    {
      "cell_type": "code",
      "execution_count": null,
      "id": "578270c4",
      "metadata": {
        "id": "578270c4"
      },
      "outputs": [],
      "source": [
        "# joblib.dump(tokenizer_q, \"tokenizer_q\")\n",
        "# joblib.dump(tokenizer_a, \"tokenizer_a\")\n",
        "# transformer.save_weights('transformer_model/weights')"
      ]
    },
    {
      "cell_type": "code",
      "execution_count": null,
      "id": "5c93b48c",
      "metadata": {
        "id": "5c93b48c"
      },
      "outputs": [],
      "source": [
        "import matplotlib.pyplot as plt\n",
        "import matplotlib.ticker as ticker\n",
        "def plot_attention(attention, sentence, predicted_sentence):\n",
        "    fig = plt.figure(figsize=(10,10))\n",
        "    ax = fig.add_subplot(1, 1, 1)\n",
        "    ax.matshow(attention, cmap='viridis')\n",
        "    \n",
        "    fontdict = {'fontsize': 14}\n",
        "    sentence = sentence.split(\" \")\n",
        "    predicted_sentence = predicted_sentence.split(\" \")\n",
        "    ax.xaxis.set_major_locator(ticker.MultipleLocator(1))\n",
        "    ax.yaxis.set_major_locator(ticker.MultipleLocator(1))\n",
        "    ax.set_xticklabels([''] + sentence, fontdict=fontdict, rotation=90)\n",
        "    ax.set_yticklabels([''] + predicted_sentence, fontdict=fontdict)\n",
        "\n",
        "\n",
        "\n",
        "def plot_attention_weights(attention,tokenizer_q, tokenizer_a, sentence, result, layer):\n",
        "    \n",
        "    fig = plt.figure(figsize=(16, 8))\n",
        "\n",
        "    sentence = tokenizer_q.encode(sentence)\n",
        "\n",
        "    attention = tf.squeeze(attention[layer], axis=0)\n",
        "    #(1, 8, 5, 4) --> (8, 5, 4)\n",
        "    for head in range(attention.shape[0]):\n",
        "        ax = fig.add_subplot(2, 4, head+1)\n",
        "\n",
        "        # plot the attention weights [:-1, :]\n",
        "        ax.matshow(attention[head][:-1, :], cmap='viridis')\n",
        "        fontdict = {'fontsize': 10}\n",
        "        \n",
        "        ax.set_xticks(range(len(sentence)+2))\n",
        "        ax.set_yticks(range(len(result)-1))\n",
        "\n",
        "        ax.set_ylim(len(result)-1.5, -0.5)\n",
        "        ax.xaxis.set_major_locator(ticker.MultipleLocator(1))\n",
        "        ax.yaxis.set_major_locator(ticker.MultipleLocator(1))\n",
        "        x = ['<start>']+[tokenizer_q.decode([i]) for i in sentence]+['<end>']\n",
        "        y = [tokenizer_a.decode([i]) for i in result if i < tokenizer_a.vocab_size]\n",
        "        ax.set_xticklabels([''] + x, fontdict=fontdict, rotation=90)\n",
        "        ax.set_yticklabels([''] + y, fontdict=fontdict)\n",
        "\n",
        "\n",
        "        ax.set_xlabel('Head {}'.format(head+1))\n",
        "  \n",
        "    plt.tight_layout()\n",
        "    plt.show()\n",
        "    \n",
        "    \n",
        "MAX_LENGTH = 27 \n",
        "\n",
        "def evaluate(inp_sentence, model,  tokenizer_q, tokenizer_a):\n",
        "    start_token = [tokenizer_q.vocab_size]\n",
        "    end_token = [tokenizer_q.vocab_size + 1]\n",
        "\n",
        "    # All questions has the start and end token\n",
        "    inp_sentence = start_token + tokenizer_q.encode(inp_sentence) + end_token\n",
        "    encoder_input = tf.expand_dims(inp_sentence, 0)\n",
        "\n",
        "    # 'answers' start token : 27358\n",
        "    decoder_input = [tokenizer_a.vocab_size]\n",
        "    decoder_input = tf.expand_dims(decoder_input, 0)\n",
        "\n",
        "    for i in range(MAX_LENGTH):\n",
        "        enc_padding_mask, combined_mask, dec_padding_mask = create_masks(encoder_input, decoder_input)\n",
        "\n",
        "        # predictions.shape == (batch_size, seq_len, vocab_size)\n",
        "        predictions, attention_weights = model(encoder_input, \n",
        "                                                     decoder_input,\n",
        "                                                     False,\n",
        "                                                     enc_padding_mask,\n",
        "                                                     combined_mask,\n",
        "                                                     dec_padding_mask)\n",
        "\n",
        "        # select the last word from the seq_len dimension\n",
        "        predictions = predictions[: ,-1:, :]  # (batch_size, 1, vocab_size)\n",
        "\n",
        "        predicted_id = tf.cast(tf.argmax(predictions, axis=-1), tf.int32)\n",
        "\n",
        "        # return the result if the predicted_id is equal to the end token\n",
        "        if predicted_id == tokenizer_a.vocab_size+1:\n",
        "            print(f\"=============\\nGot end token\\n=============\")\n",
        "            return tf.squeeze(decoder_input, axis=0), attention_weights\n",
        "\n",
        "        # concatentate the predicted_id to the output which is given to the decoder\n",
        "        # as its input.\n",
        "        decoder_input = tf.concat([decoder_input, predicted_id], axis=-1)\n",
        "\n",
        "    return tf.squeeze(decoder_input, axis=0), attention_weights"
      ]
    },
    {
      "cell_type": "code",
      "execution_count": null,
      "id": "4f3aad84",
      "metadata": {
        "id": "4f3aad84"
      },
      "outputs": [],
      "source": [
        "def reply(sentence, transformer,  tokenizer_q, tokenizer_a, plot=''):\n",
        "    result, attention_weights = evaluate(sentence, transformer,  tokenizer_q, tokenizer_a)\n",
        "#     print(\"Attention_Blocks:\", list(attention_weights.keys()))\n",
        "    predicted_sentence = tokenizer_a.decode([i for i in result \n",
        "                                            if i < tokenizer_a.vocab_size])  \n",
        "  \n",
        "    print('Input: {}'.format(sentence))\n",
        "    print('Predicted translation: {}'.format(predicted_sentence))\n",
        "    if plot:\n",
        "        plot_attention_weights(attention_weights,tokenizer_q, tokenizer_a, sentence, result, plot)\n",
        "    return sentence, predicted_sentence"
      ]
    },
    {
      "cell_type": "code",
      "execution_count": null,
      "id": "1b5f1253",
      "metadata": {
        "id": "1b5f1253"
      },
      "outputs": [],
      "source": [
        "inp_sentence = \"i was told ten thousand in each pack\"\n",
        "reply(inp_sentence, transformer,  tokenizer_q, tokenizer_a, \"decoder_layer2_block2\")"
      ]
    },
    {
      "cell_type": "markdown",
      "id": "b3db5f71",
      "metadata": {
        "id": "b3db5f71"
      },
      "source": [
        "## OUTPUTS are not absurd at all, It has LEARNED"
      ]
    },
    {
      "cell_type": "code",
      "execution_count": null,
      "id": "298cfd21",
      "metadata": {
        "id": "298cfd21"
      },
      "outputs": [],
      "source": [
        "inp_sentence = \"i did not sleep well\"\n",
        "reply(inp_sentence, transformer,  tokenizer_q, tokenizer_a)"
      ]
    },
    {
      "cell_type": "code",
      "execution_count": null,
      "id": "afd920ba",
      "metadata": {
        "scrolled": true,
        "id": "afd920ba"
      },
      "outputs": [],
      "source": [
        "train.iloc[400:406]"
      ]
    },
    {
      "cell_type": "code",
      "execution_count": null,
      "id": "14569967",
      "metadata": {
        "id": "14569967"
      },
      "outputs": [],
      "source": [
        "validation.iloc[400:406]"
      ]
    },
    {
      "cell_type": "code",
      "execution_count": null,
      "id": "a112d4ac",
      "metadata": {
        "scrolled": true,
        "id": "a112d4ac"
      },
      "outputs": [],
      "source": [
        "import nltk.translate.bleu_score as bleu\n",
        "from tqdm import tqdm\n",
        "test_q = train[\"question\"].values[:10]\n",
        "test_a = train[\"answer\"].values[:10]\n",
        "bss = []\n",
        "for i in range(10):\n",
        "    input_test_sentence = test_q[i]\n",
        "    input_sentence, pred_string = reply(input_test_sentence, transformer,  tokenizer_q, tokenizer_a, plot='')\n",
        "    print(\"Actual:\", test_a[i])\n",
        "    reference = [test_a[i].split()] # the original\n",
        "    translation = pred_string.split() # trasilated using model\n",
        "#     bs = bleu.sentence_bleu(reference, translation)\n",
        "#     bss.append(bs)\n"
      ]
    },
    {
      "cell_type": "code",
      "execution_count": null,
      "id": "c86d5e23",
      "metadata": {
        "id": "c86d5e23"
      },
      "outputs": [],
      "source": [
        "import nltk.translate.bleu_score as bleu\n",
        "from tqdm import tqdm\n",
        "test_q = validation[\"question\"].values[100:110]\n",
        "test_a = validation[\"answer\"].values[100:110]\n",
        "bss = []\n",
        "for i in range(10):\n",
        "    input_test_sentence = test_q[i]\n",
        "    input_sentence, pred_string = reply(input_test_sentence, load_transformer,  tokenizer_q, tokenizer_a, plot='')\n",
        "    print(\"Actual:\", test_a[i])\n",
        "    reference = [test_a[i].split()] # the original\n",
        "    translation = pred_string.split() # trasilated using model"
      ]
    },
    {
      "cell_type": "code",
      "execution_count": null,
      "id": "f5221356",
      "metadata": {
        "id": "f5221356"
      },
      "outputs": [],
      "source": [
        "# num_layers = 2\n",
        "# d_model = 256\n",
        "# dff = 512\n",
        "# num_heads = 8\n",
        "# input_vocab_size = tokenizer_q.vocab_size + 2\n",
        "# target_vocab_size = tokenizer_a.vocab_size + 2\n",
        "# dropout_rate = 0.1\n",
        "\n",
        "# load_transformer = Transformer(num_layers, d_model, num_heads, dff,\n",
        "#                           input_vocab_size, target_vocab_size, \n",
        "#                           pe_input=input_vocab_size, \n",
        "#                           pe_target=target_vocab_size,\n",
        "#                           rate=dropout_rate)\n",
        "# load_transformer.load_weights('transformer_model/weights')"
      ]
    },
    {
      "cell_type": "code",
      "execution_count": null,
      "id": "5d2d6845",
      "metadata": {
        "id": "5d2d6845"
      },
      "outputs": [],
      "source": [
        "inp_sentence = \"i was told ten thousand in each pack\"\n",
        "reply(inp_sentence, load_transformer,  tokenizer_q, tokenizer_a, \"decoder_layer2_block2\")"
      ]
    },
    {
      "cell_type": "markdown",
      "id": "76541209",
      "metadata": {
        "id": "76541209"
      },
      "source": [
        "* Results are great, better than encoder-decoder with bahadenau attention mechanism\n",
        "* Still we can see the results are not perfect, because the architecture has less parameters plus the dataset is not very big and transformers works close to humans with large data and large trainable parameters"
      ]
    },
    {
      "cell_type": "markdown",
      "id": "144f2d50",
      "metadata": {
        "id": "144f2d50"
      },
      "source": [
        "# On random inputs!\n",
        "### Results are genuine"
      ]
    },
    {
      "cell_type": "code",
      "execution_count": null,
      "id": "c357afa8",
      "metadata": {
        "id": "c357afa8"
      },
      "outputs": [],
      "source": [
        "inp_sentence = \"hi\"\n",
        "reply(inp_sentence, load_transformer,  tokenizer_q, tokenizer_a)\n"
      ]
    },
    {
      "cell_type": "code",
      "execution_count": null,
      "id": "a8dbf4e6",
      "metadata": {
        "id": "a8dbf4e6"
      },
      "outputs": [],
      "source": [
        "inp_sentence = \"Where have you been\"\n",
        "reply(inp_sentence, load_transformer,  tokenizer_q, tokenizer_a)\n"
      ]
    },
    {
      "cell_type": "markdown",
      "id": "b357781a",
      "metadata": {
        "id": "b357781a"
      },
      "source": [
        "#### Making sense haha : ) \"who are you\""
      ]
    },
    {
      "cell_type": "code",
      "execution_count": null,
      "id": "b1d86b1c",
      "metadata": {
        "id": "b1d86b1c"
      },
      "outputs": [],
      "source": [
        "inp_sentence = \"who are you\"\n",
        "reply(inp_sentence, load_transformer,  tokenizer_q, tokenizer_a)\n"
      ]
    },
    {
      "cell_type": "markdown",
      "id": "58f0fab3",
      "metadata": {
        "id": "58f0fab3"
      },
      "source": [
        "####  Again making sense \"where do you live\""
      ]
    },
    {
      "cell_type": "code",
      "execution_count": null,
      "id": "635f4b9c",
      "metadata": {
        "id": "635f4b9c"
      },
      "outputs": [],
      "source": [
        "inp_sentence = \"where do you live\"\n",
        "reply(inp_sentence, load_transformer,  tokenizer_q, tokenizer_a)"
      ]
    },
    {
      "cell_type": "code",
      "execution_count": null,
      "id": "88ecdc49",
      "metadata": {
        "id": "88ecdc49"
      },
      "outputs": [],
      "source": [
        "inp_sentence = \"what is your name\"\n",
        "reply(inp_sentence, load_transformer,  tokenizer_q, tokenizer_a)"
      ]
    },
    {
      "cell_type": "code",
      "execution_count": null,
      "id": "b5f480ff",
      "metadata": {
        "scrolled": true,
        "id": "b5f480ff"
      },
      "outputs": [],
      "source": [
        "inp_sentence = \"why are you angry with me is there anything i did wrong\"\n",
        "reply(inp_sentence, load_transformer,  tokenizer_q, tokenizer_a)"
      ]
    },
    {
      "cell_type": "markdown",
      "id": "e57d9937",
      "metadata": {
        "id": "e57d9937"
      },
      "source": [
        "# Even with this small architecture its working fine, what else it could do If I train it with trainable parameters with more data"
      ]
    }
  ],
  "metadata": {
    "kernelspec": {
      "display_name": "Python 3 (ipykernel)",
      "language": "python",
      "name": "python3"
    },
    "language_info": {
      "codemirror_mode": {
        "name": "ipython",
        "version": 3
      },
      "file_extension": ".py",
      "mimetype": "text/x-python",
      "name": "python",
      "nbconvert_exporter": "python",
      "pygments_lexer": "ipython3",
      "version": "3.9.7"
    },
    "colab": {
      "provenance": [],
      "toc_visible": true
    },
    "accelerator": "GPU",
    "gpuClass": "standard"
  },
  "nbformat": 4,
  "nbformat_minor": 5
}